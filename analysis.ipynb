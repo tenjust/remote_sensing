{
 "cells": [
  {
   "cell_type": "code",
   "execution_count": 5,
   "metadata": {},
   "outputs": [
    {
     "name": "stdout",
     "output_type": "stream",
     "text": [
      "   Species  Count\n",
      "64      陰香   5704\n",
      "56      茄苳   2892\n",
      "18     台灣櫸   1654\n",
      "36      楓香   1616\n",
      "65     青剛櫟   1583\n",
      "49     白雞油   1383\n",
      "19    台灣欒樹   1336\n",
      "34     杜虹花   1237\n",
      "69      香楠    548\n",
      "42     烏心石    481\n",
      "33      杜英    458\n",
      "25     大葉楠    409\n",
      "17    印度紫檀    393\n",
      "38      樟樹    383\n",
      "62     銀合歡    307\n",
      "61     野牡丹    258\n",
      "57  菲律賓饅頭果    216\n",
      "50     相思樹    189\n",
      "15      九芎    101\n",
      "21    台灣赤楊    100\n",
      "40     水黃皮    100\n",
      "23     土肉桂     92\n"
     ]
    }
   ],
   "source": [
    "import pandas as pd\n",
    "\n",
    "# Read the CSV files into pandas DataFrames\n",
    "file_path = \"G:\\\\Yehmh\\\\DNDF\\\\202309_DNDF\\\\tree_survey_combined.xlsx\"\n",
    "df = pd.read_excel(file_path)\n",
    "\n",
    "# Check for empty sequences and print them\n",
    "empty_sequences = df[df['Species'].isnull()]\n",
    "\n",
    "# Drop the empty sequences before further processing if needed\n",
    "df = df.dropna(subset=['Species'])\n",
    "\n",
    "# Calculate the counts of each species in each plot\n",
    "species_counts = df.groupby(['Species']).size().reset_index(name='Count')\n",
    "\n",
    "# Filter species with counts >= 80\n",
    "top_species = species_counts[species_counts['Count'] >= 80]\n",
    "\n",
    "# Sort the top species by count from highest to lowest\n",
    "top_species_sorted = top_species.sort_values(by='Count', ascending=False)\n",
    "\n",
    "# Print the top species and their counts\n",
    "print(top_species_sorted)"
   ]
  },
  {
   "cell_type": "code",
   "execution_count": 1,
   "metadata": {},
   "outputs": [
    {
     "name": "stdout",
     "output_type": "stream",
     "text": [
      "Folder 'species_dbh' contains 0 files.\n",
      "Folder '青剛櫟' contains 28 files.\n",
      "Folder '茄苳' contains 253 files.\n",
      "Folder '白雞油' contains 36 files.\n",
      "Folder '楓香' contains 232 files.\n",
      "Folder '台灣櫸' contains 169 files.\n",
      "Folder '台灣欒樹' contains 52 files.\n",
      "Folder '烏心石' contains 104 files.\n",
      "Folder '杜英' contains 24 files.\n",
      "Folder '印度紫檀' contains 40 files.\n",
      "Folder '香楠' contains 92 files.\n",
      "Folder '陰香' contains 137 files.\n",
      "Folder '樟樹' contains 12 files.\n",
      "Folder '銀合歡' contains 4 files.\n",
      "Folder '構樹' contains 4 files.\n"
     ]
    }
   ],
   "source": [
    "import os\n",
    "\n",
    "def count_files_in_folders(directory):\n",
    "    folder_counts = {}\n",
    "    for root, dirs, files in os.walk(directory):\n",
    "        folder_name = os.path.basename(root)\n",
    "        folder_counts[folder_name] = len(files)\n",
    "    return folder_counts\n",
    "\n",
    "# Replace 'your_directory_path' with the path to your main folder\n",
    "folder_path = 'G:\\\\Yehmh\\\\DNDF\\\\202309_DNDF\\\\species_dbh'\n",
    "\n",
    "file_counts = count_files_in_folders(folder_path)\n",
    "\n",
    "for folder, count in file_counts.items():\n",
    "    print(f\"Folder '{folder}' contains {count} files.\")\n"
   ]
  }
 ],
 "metadata": {
  "kernelspec": {
   "display_name": "test",
   "language": "python",
   "name": "python3"
  },
  "language_info": {
   "codemirror_mode": {
    "name": "ipython",
    "version": 3
   },
   "file_extension": ".py",
   "mimetype": "text/x-python",
   "name": "python",
   "nbconvert_exporter": "python",
   "pygments_lexer": "ipython3",
   "version": "3.8.18"
  }
 },
 "nbformat": 4,
 "nbformat_minor": 2
}
