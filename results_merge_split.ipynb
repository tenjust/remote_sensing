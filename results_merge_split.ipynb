{
 "cells": [
  {
   "cell_type": "code",
   "execution_count": 7,
   "metadata": {},
   "outputs": [],
   "source": [
    "import pandas as pd\n",
    "import os\n",
    "\n",
    "def results_merge_split(file_paths, output_path, info):\n",
    "    # Merge CSV files into one DataFrame\n",
    "    merged_df = pd.DataFrame()\n",
    "    for file_path in file_paths:\n",
    "        df = pd.read_csv(file_path)\n",
    "        merged_df = pd.concat([merged_df, df])\n",
    "\n",
    "    # Split merged DataFrame into separate DataFrames based on species\n",
    "    species_groups = merged_df.groupby('Predicted Species')\n",
    "\n",
    "    # Create a directory to store the split CSV files\n",
    "    output_directory = output_path\n",
    "    if not os.path.exists(output_directory):\n",
    "        os.makedirs(output_directory)\n",
    "\n",
    "    # Write each group to a separate CSV file\n",
    "    for species, group_df in species_groups:\n",
    "        output_filename = os.path.join(output_directory, f'{info}_{species}.csv')\n",
    "        group_df.to_csv(output_filename, index=False)\n"
   ]
  },
  {
   "cell_type": "code",
   "execution_count": 8,
   "metadata": {},
   "outputs": [],
   "source": [
    "# # List of file paths\n",
    "# list = [69, 70, 71, 75, 76, 78, 79, 82]\n",
    "# file_paths = [f'D:/Yehmh/test_py/202301/P000{i}_species_distribution_prob.csv' for i in list]\n",
    "# output_path = 'D:/Yehmh/test_py/202301/split_files'\n",
    "# info = 'species_distribution_prob'\n",
    "\n",
    "# results_merge_split(file_paths, output_path, info)\n",
    "\n",
    "# print(\"CSV files have been successfully split based on species.\")"
   ]
  },
  {
   "cell_type": "code",
   "execution_count": 9,
   "metadata": {},
   "outputs": [
    {
     "name": "stdout",
     "output_type": "stream",
     "text": [
      "CSV files have been successfully split based on species.\n"
     ]
    }
   ],
   "source": [
    "# ---------------------------- DNDF\n",
    "\n",
    "# List of file paths\n",
    "file_paths = [f'G:\\\\Yehmh\\\\DNDF\\\\202309_DNDF\\\\results\\\\{i}_0411_resnet.csv' for i in range(1, 16)]\n",
    "output_path = 'G:\\\\Yehmh\\\\DNDF\\\\202309_DNDF\\\\results'\n",
    "info = '0411'\n",
    "\n",
    "results_merge_split(file_paths, output_path, info)\n",
    "\n",
    "print(\"CSV files have been successfully split based on species.\")"
   ]
  }
 ],
 "metadata": {
  "kernelspec": {
   "display_name": "test",
   "language": "python",
   "name": "python3"
  },
  "language_info": {
   "codemirror_mode": {
    "name": "ipython",
    "version": 3
   },
   "file_extension": ".py",
   "mimetype": "text/x-python",
   "name": "python",
   "nbconvert_exporter": "python",
   "pygments_lexer": "ipython3",
   "version": "3.8.18"
  }
 },
 "nbformat": 4,
 "nbformat_minor": 2
}
