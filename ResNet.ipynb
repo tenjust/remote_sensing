{
 "cells": [
  {
   "cell_type": "code",
   "execution_count": 2,
   "metadata": {},
   "outputs": [],
   "source": [
    "import os\n",
    "import pandas as pd\n",
    "import numpy as np\n",
    "import cv2\n",
    "import torch\n",
    "import torch.nn as nn\n",
    "import torch.optim as optim\n",
    "import torchvision.transforms as transforms\n",
    "from torch.utils.data import Dataset, DataLoader\n",
    "from sklearn.model_selection import train_test_split\n",
    "from sklearn.preprocessing import LabelEncoder\n",
    "from torchvision.models import resnet50\n",
    "\n",
    "# Define a custom dataset class\n",
    "class CustomDataset(Dataset):\n",
    "    def __init__(self, images, labels, transform=None):\n",
    "        self.images = images\n",
    "        self.labels = labels\n",
    "        self.transform = transform\n",
    "\n",
    "    def __len__(self):\n",
    "        return len(self.images)\n",
    "\n",
    "    def __getitem__(self, idx):\n",
    "        image = self.images[idx]\n",
    "        label = self.labels[idx]\n",
    "\n",
    "        if self.transform:\n",
    "            image = self.transform(image)\n",
    "\n",
    "        return image, label"
   ]
  },
  {
   "cell_type": "markdown",
   "metadata": {},
   "source": [
    "## Step 1: Data Preparation"
   ]
  },
  {
   "cell_type": "code",
   "execution_count": 3,
   "metadata": {},
   "outputs": [],
   "source": [
    "import os\n",
    "import cv2\n",
    "\n",
    "data_dir = \"G:\\\\Yehmh\\\\DNDF\\\\202309_DNDF\\\\species_dbh\"\n",
    "\n",
    "X = []  # Features\n",
    "y = []  # Labels\n",
    "\n",
    "for folder in os.listdir(data_dir):\n",
    "    if os.path.isdir(os.path.join(data_dir, folder)):  # Check if it's a directory\n",
    "        species = folder  # Assuming folder name is the species label\n",
    "        species_dir = os.path.join(data_dir, folder)\n",
    "        for file in os.listdir(species_dir):\n",
    "            if file.endswith(\".tif\"):\n",
    "                image_path = os.path.join(species_dir, file)\n",
    "                image = cv2.imread(image_path)\n",
    "                if image is not None and image.size != 0:  # Check if image is not empty\n",
    "                    image = cv2.resize(image, (224, 224))  # Resize image to 224x224\n",
    "                    X.append(image)\n",
    "                    y.append(species)\n",
    "                else:\n",
    "                    print(f\"Failed to read or empty image: {image_path}\")\n"
   ]
  },
  {
   "cell_type": "code",
   "execution_count": 4,
   "metadata": {},
   "outputs": [
    {
     "name": "stdout",
     "output_type": "stream",
     "text": [
      "1375 1375\n"
     ]
    }
   ],
   "source": [
    "print(len(X), len(y))"
   ]
  },
  {
   "cell_type": "markdown",
   "metadata": {},
   "source": [
    "## Step 2: Data Preprocessing"
   ]
  },
  {
   "cell_type": "code",
   "execution_count": 5,
   "metadata": {},
   "outputs": [],
   "source": [
    "label_encoder = LabelEncoder()\n",
    "y = label_encoder.fit_transform(y)\n",
    "X_train, X_test, y_train, y_test = train_test_split(X, y, test_size=0.2, random_state=42)"
   ]
  },
  {
   "cell_type": "code",
   "execution_count": 6,
   "metadata": {},
   "outputs": [
    {
     "name": "stdout",
     "output_type": "stream",
     "text": [
      "['Bisc_ja' 'Brou_pa' 'Cinn_bu' 'Cinn_ca' 'Elae_sy' 'Frax_gr' 'Koel_el'\n",
      " 'Liqu_fo' 'Mach_zu' 'Magn_co' 'Pter_in' 'Quer_gl' 'Zelk_se' '_not_tree']\n",
      "[11 11 11 ... 13 13 13]\n",
      "1100 275\n"
     ]
    }
   ],
   "source": [
    "print(label_encoder.classes_)\n",
    "print(y)\n",
    "print(len(X_train), len(X_test))"
   ]
  },
  {
   "cell_type": "markdown",
   "metadata": {},
   "source": [
    "## Step 3: Define transformations and create datasets"
   ]
  },
  {
   "cell_type": "code",
   "execution_count": 7,
   "metadata": {},
   "outputs": [],
   "source": [
    "# # Define transform for ResNet-50\n",
    "# transform_resnet = transforms.Compose([\n",
    "#     transforms.ToPILImage(),  # Convert to PIL Image\n",
    "#     transforms.Resize((224, 224)),  # Resize to 224x224\n",
    "#     transforms.ToTensor(),  # Convert image to PyTorch tensor\n",
    "#     transforms.Normalize(mean=[0.485, 0.456, 0.406], std=[0.229, 0.224, 0.225])  # Normalize image data\n",
    "# ])\n",
    "\n",
    "# # Apply transform_resnet for ResNet-50\n",
    "# train_dataset = CustomDataset(X_train, y_train, transform=transform_resnet)\n",
    "# test_dataset = CustomDataset(X_test, y_test, transform=transform_resnet)"
   ]
  },
  {
   "cell_type": "code",
   "execution_count": 8,
   "metadata": {},
   "outputs": [],
   "source": [
    "# Data Augmentation ------\n",
    "\n",
    "train_transform = transforms.Compose([\n",
    "    transforms.ToPILImage(),  # Convert to PIL Image\n",
    "    transforms.RandomHorizontalFlip(),  # Randomly flip the images horizontally\n",
    "    transforms.RandomRotation(degrees=15),  # Randomly rotate the images by up to 15 degrees\n",
    "    transforms.RandomCrop(size=(224, 224), padding=4),  # Randomly crop a 224x224 region of the image with padding\n",
    "    transforms.ToTensor(),  # Convert image to PyTorch tensor\n",
    "    transforms.Normalize(mean=[0.485, 0.456, 0.406], std=[0.229, 0.224, 0.225])  # Normalize image data\n",
    "])\n",
    "\n",
    "test_transform = transforms.Compose([\n",
    "    transforms.ToPILImage(),  # Convert to PIL Image\n",
    "    transforms.Resize((224, 224)),  # Resize image to 224x224\n",
    "    transforms.ToTensor(),  # Convert image to PyTorch tensor\n",
    "    transforms.Normalize(mean=[0.485, 0.456, 0.406], std=[0.229, 0.224, 0.225])  # Normalize image data\n",
    "])\n",
    "\n",
    "train_dataset = CustomDataset(X_train, y_train, transform=train_transform)\n",
    "test_dataset = CustomDataset(X_test, y_test, transform=test_transform)"
   ]
  },
  {
   "cell_type": "markdown",
   "metadata": {},
   "source": [
    "## Step 4: Create data loaders"
   ]
  },
  {
   "cell_type": "code",
   "execution_count": 9,
   "metadata": {},
   "outputs": [],
   "source": [
    "batch_size = 32\n",
    "\n",
    "train_loader = DataLoader(train_dataset, batch_size=batch_size, shuffle=True)\n",
    "test_loader = DataLoader(test_dataset, batch_size=batch_size, shuffle=False)\n",
    "# test_loader is created with shuffle=False. \n",
    "# Ensures that the evaluation process remains consistent across different evaluations \n",
    "# and that the model is tested on the same data distribution every time"
   ]
  },
  {
   "cell_type": "markdown",
   "metadata": {},
   "source": [
    "## Step 5: Define the CNN model"
   ]
  },
  {
   "cell_type": "code",
   "execution_count": 10,
   "metadata": {},
   "outputs": [
    {
     "name": "stdout",
     "output_type": "stream",
     "text": [
      "(224, 224, 3)\n"
     ]
    }
   ],
   "source": [
    "print(image.shape)"
   ]
  },
  {
   "cell_type": "code",
   "execution_count": 11,
   "metadata": {},
   "outputs": [],
   "source": [
    "class ResNet50(nn.Module):\n",
    "    def __init__(self, num_classes):\n",
    "        super(ResNet50, self).__init__()\n",
    "        self.resnet = resnet50(pretrained=True)  # Load pretrained ResNet-50\n",
    "        # Replace the last fully connected layer with a new one\n",
    "        num_ftrs = self.resnet.fc.in_features\n",
    "        self.resnet.fc = nn.Linear(num_ftrs, num_classes)\n",
    "\n",
    "    def forward(self, x):\n",
    "        return self.resnet(x)"
   ]
  },
  {
   "cell_type": "markdown",
   "metadata": {},
   "source": [
    "## Step 6: Initialize model. loss function, and optimizer"
   ]
  },
  {
   "cell_type": "code",
   "execution_count": 12,
   "metadata": {},
   "outputs": [
    {
     "name": "stderr",
     "output_type": "stream",
     "text": [
      "c:\\Users\\CIRES\\anaconda3\\envs\\test\\lib\\site-packages\\torchvision\\models\\_utils.py:208: UserWarning: The parameter 'pretrained' is deprecated since 0.13 and may be removed in the future, please use 'weights' instead.\n",
      "  warnings.warn(\n",
      "c:\\Users\\CIRES\\anaconda3\\envs\\test\\lib\\site-packages\\torchvision\\models\\_utils.py:223: UserWarning: Arguments other than a weight enum or `None` for 'weights' are deprecated since 0.13 and may be removed in the future. The current behavior is equivalent to passing `weights=ResNet50_Weights.IMAGENET1K_V1`. You can also use `weights=ResNet50_Weights.DEFAULT` to get the most up-to-date weights.\n",
      "  warnings.warn(msg)\n"
     ]
    }
   ],
   "source": [
    "model = ResNet50(num_classes=len(label_encoder.classes_))\n",
    "criterion = nn.CrossEntropyLoss()\n",
    "optimizer = optim.Adam(model.parameters(), lr=0.001)"
   ]
  },
  {
   "cell_type": "code",
   "execution_count": 13,
   "metadata": {},
   "outputs": [
    {
     "name": "stdout",
     "output_type": "stream",
     "text": [
      "14\n"
     ]
    }
   ],
   "source": [
    "print(len(label_encoder.classes_))"
   ]
  },
  {
   "cell_type": "markdown",
   "metadata": {},
   "source": [
    "## Step 7: Train the model"
   ]
  },
  {
   "cell_type": "code",
   "execution_count": 14,
   "metadata": {},
   "outputs": [
    {
     "name": "stdout",
     "output_type": "stream",
     "text": [
      "Epoch [1/100], Loss: 1.745312978540148, Accuracy: 0.45181818181818184\n",
      "Epoch [2/100], Loss: 1.365431490966252, Accuracy: 0.5454545454545454\n",
      "Epoch [3/100], Loss: 1.210078135558537, Accuracy: 0.6090909090909091\n",
      "Epoch [4/100], Loss: 1.1573501365525383, Accuracy: 0.6263636363636363\n",
      "Epoch [5/100], Loss: 1.165580551964896, Accuracy: 0.6281818181818182\n",
      "Epoch [6/100], Loss: 1.0549687155655452, Accuracy: 0.6654545454545454\n",
      "Epoch [7/100], Loss: 0.9682566676821027, Accuracy: 0.6963636363636364\n",
      "Epoch [8/100], Loss: 0.9741944585527692, Accuracy: 0.67\n",
      "Epoch [9/100], Loss: 0.8702464580535889, Accuracy: 0.7045454545454546\n",
      "Epoch [10/100], Loss: 0.8586360539708818, Accuracy: 0.7181818181818181\n",
      "Epoch [11/100], Loss: 0.7953491789954049, Accuracy: 0.7363636363636363\n",
      "Epoch [12/100], Loss: 0.729941143308367, Accuracy: 0.7472727272727273\n",
      "Epoch [13/100], Loss: 0.6985891035624913, Accuracy: 0.7709090909090909\n",
      "Epoch [14/100], Loss: 0.6995873434203012, Accuracy: 0.7745454545454545\n",
      "Epoch [15/100], Loss: 0.7239237938608442, Accuracy: 0.7618181818181818\n",
      "Epoch [16/100], Loss: 0.6611958750656672, Accuracy: 0.7836363636363637\n",
      "Epoch [17/100], Loss: 0.5674628947462355, Accuracy: 0.8054545454545454\n",
      "Epoch [18/100], Loss: 0.5985882827213832, Accuracy: 0.7909090909090909\n",
      "Epoch [19/100], Loss: 0.5135451661688941, Accuracy: 0.8145454545454546\n",
      "Epoch [20/100], Loss: 0.5182549949203219, Accuracy: 0.8209090909090909\n",
      "Epoch [21/100], Loss: 0.594255108492715, Accuracy: 0.79\n",
      "Epoch [22/100], Loss: 0.5576809623411724, Accuracy: 0.83\n",
      "Epoch [23/100], Loss: 0.49855526174817766, Accuracy: 0.8272727272727273\n",
      "Epoch [24/100], Loss: 0.4788690439292363, Accuracy: 0.8463636363636363\n",
      "Epoch [25/100], Loss: 0.4599907717534474, Accuracy: 0.85\n",
      "Epoch [26/100], Loss: 0.46938781567982263, Accuracy: 0.8309090909090909\n",
      "Epoch [27/100], Loss: 0.5037392058542797, Accuracy: 0.8218181818181818\n",
      "Epoch [28/100], Loss: 0.49515907338687354, Accuracy: 0.8381818181818181\n",
      "Epoch [29/100], Loss: 0.4125255469764982, Accuracy: 0.87\n",
      "Epoch [30/100], Loss: 0.39981030055454797, Accuracy: 0.8672727272727273\n",
      "Epoch [31/100], Loss: 0.4444805915866579, Accuracy: 0.8545454545454545\n",
      "Epoch [32/100], Loss: 0.41655823098761696, Accuracy: 0.8472727272727273\n",
      "Epoch [33/100], Loss: 0.3642646510686193, Accuracy: 0.8663636363636363\n",
      "Epoch [34/100], Loss: 0.3509085497685841, Accuracy: 0.8836363636363637\n",
      "Epoch [35/100], Loss: 0.3985103415591376, Accuracy: 0.8645454545454545\n",
      "Epoch [36/100], Loss: 0.3407079251749175, Accuracy: 0.8809090909090909\n",
      "Epoch [37/100], Loss: 0.3469377617750849, Accuracy: 0.8818181818181818\n",
      "Epoch [38/100], Loss: 0.3685219494359834, Accuracy: 0.889090909090909\n",
      "Epoch [39/100], Loss: 0.38946235733372825, Accuracy: 0.8581818181818182\n",
      "Epoch [40/100], Loss: 0.34561353304556436, Accuracy: 0.8790909090909091\n",
      "Epoch [41/100], Loss: 0.3509200698563031, Accuracy: 0.8854545454545455\n",
      "Epoch [42/100], Loss: 0.2840084559151104, Accuracy: 0.9081818181818182\n",
      "Epoch [43/100], Loss: 0.32618002338068824, Accuracy: 0.8863636363636364\n",
      "Epoch [44/100], Loss: 0.2908913879522255, Accuracy: 0.9045454545454545\n",
      "Epoch [45/100], Loss: 0.2244367444089481, Accuracy: 0.9218181818181819\n",
      "Epoch [46/100], Loss: 0.2155665676508631, Accuracy: 0.9263636363636364\n",
      "Epoch [47/100], Loss: 0.19865043620978082, Accuracy: 0.9336363636363636\n",
      "Epoch [48/100], Loss: 0.17848230749368668, Accuracy: 0.9345454545454546\n",
      "Epoch [49/100], Loss: 0.18319285937717983, Accuracy: 0.9472727272727273\n",
      "Epoch [50/100], Loss: 0.20652938038110732, Accuracy: 0.9263636363636364\n",
      "Epoch [51/100], Loss: 0.19198596871324947, Accuracy: 0.9354545454545454\n",
      "Epoch [52/100], Loss: 0.32404616943427494, Accuracy: 0.889090909090909\n",
      "Epoch [53/100], Loss: 0.2239641119326864, Accuracy: 0.9154545454545454\n",
      "Epoch [54/100], Loss: 0.15863424848232952, Accuracy: 0.9427272727272727\n",
      "Epoch [55/100], Loss: 0.17096939704247882, Accuracy: 0.9527272727272728\n",
      "Epoch [56/100], Loss: 0.20275050795504024, Accuracy: 0.9263636363636364\n",
      "Epoch [57/100], Loss: 0.16852750331163407, Accuracy: 0.9481818181818182\n",
      "Epoch [58/100], Loss: 0.18120224795171191, Accuracy: 0.94\n",
      "Epoch [59/100], Loss: 0.2071377048002822, Accuracy: 0.9281818181818182\n",
      "Epoch [60/100], Loss: 0.3115460620394775, Accuracy: 0.89\n",
      "Epoch [61/100], Loss: 0.23444876298308373, Accuracy: 0.9090909090909091\n",
      "Epoch [62/100], Loss: 0.16675199259604725, Accuracy: 0.9427272727272727\n",
      "Epoch [63/100], Loss: 0.1301821163722447, Accuracy: 0.9618181818181818\n",
      "Epoch [64/100], Loss: 0.2383531921543181, Accuracy: 0.9181818181818182\n",
      "Epoch [65/100], Loss: 0.2238746461059366, Accuracy: 0.9427272727272727\n",
      "Epoch [66/100], Loss: 0.152481068218393, Accuracy: 0.9490909090909091\n",
      "Epoch [67/100], Loss: 0.1919555194143738, Accuracy: 0.9436363636363636\n",
      "Epoch [68/100], Loss: 0.16095955967903136, Accuracy: 0.9490909090909091\n",
      "Epoch [69/100], Loss: 0.11548349319824151, Accuracy: 0.9636363636363636\n",
      "Epoch [70/100], Loss: 0.1210122812539339, Accuracy: 0.9536363636363636\n",
      "Epoch [71/100], Loss: 0.10514157792287214, Accuracy: 0.9636363636363636\n",
      "Epoch [72/100], Loss: 0.09623919358210904, Accuracy: 0.9636363636363636\n",
      "Epoch [73/100], Loss: 0.09394194869590657, Accuracy: 0.9672727272727273\n",
      "Epoch [74/100], Loss: 0.08956237147961343, Accuracy: 0.9736363636363636\n",
      "Epoch [75/100], Loss: 0.13426337912678718, Accuracy: 0.9609090909090909\n",
      "Epoch [76/100], Loss: 0.1532729072629341, Accuracy: 0.9436363636363636\n",
      "Epoch [77/100], Loss: 0.09671130783057638, Accuracy: 0.9681818181818181\n",
      "Epoch [78/100], Loss: 0.09660726141716752, Accuracy: 0.9636363636363636\n",
      "Epoch [79/100], Loss: 0.1064124386225428, Accuracy: 0.9609090909090909\n",
      "Epoch [80/100], Loss: 0.10584116822906903, Accuracy: 0.9690909090909091\n",
      "Epoch [81/100], Loss: 0.10035257994064263, Accuracy: 0.9709090909090909\n",
      "Epoch [82/100], Loss: 0.09774780874805791, Accuracy: 0.9627272727272728\n",
      "Epoch [83/100], Loss: 0.13775260799697467, Accuracy: 0.9545454545454546\n",
      "Epoch [84/100], Loss: 0.1843216690633978, Accuracy: 0.94\n",
      "Epoch [85/100], Loss: 0.14021293238869736, Accuracy: 0.9472727272727273\n",
      "Epoch [86/100], Loss: 0.16116613926632065, Accuracy: 0.9418181818181818\n",
      "Epoch [87/100], Loss: 0.10593516685600791, Accuracy: 0.9645454545454546\n",
      "Epoch [88/100], Loss: 0.08329314778425864, Accuracy: 0.9709090909090909\n",
      "Epoch [89/100], Loss: 0.11360596149627651, Accuracy: 0.9590909090909091\n",
      "Epoch [90/100], Loss: 0.14773269040243966, Accuracy: 0.9445454545454546\n",
      "Epoch [91/100], Loss: 0.14924987581159388, Accuracy: 0.9527272727272728\n",
      "Epoch [92/100], Loss: 0.12630457000008652, Accuracy: 0.9563636363636364\n",
      "Epoch [93/100], Loss: 0.11549721498574529, Accuracy: 0.9654545454545455\n",
      "Epoch [94/100], Loss: 0.18637362479099207, Accuracy: 0.9336363636363636\n",
      "Epoch [95/100], Loss: 0.11578912788203784, Accuracy: 0.96\n",
      "Epoch [96/100], Loss: 0.06510344967246055, Accuracy: 0.98\n",
      "Epoch [97/100], Loss: 0.05086028257917081, Accuracy: 0.9881818181818182\n",
      "Epoch [98/100], Loss: 0.06229738047612565, Accuracy: 0.9790909090909091\n",
      "Epoch [99/100], Loss: 0.06894980585202574, Accuracy: 0.980909090909091\n",
      "Epoch [100/100], Loss: 0.06742010797773089, Accuracy: 0.9772727272727273\n"
     ]
    },
    {
     "data": {
      "image/png": "[encoded data removed]",
      "text/plain": [
       "<Figure size 1000x500 with 2 Axes>"
      ]
     },
     "metadata": {},
     "output_type": "display_data"
    }
   ],
   "source": [
    "import matplotlib.pyplot as plt\n",
    "\n",
    "num_epochs = 100\n",
    "train_losses = []\n",
    "train_accuracies = []\n",
    "\n",
    "for epoch in range(num_epochs):\n",
    "    model.train()\n",
    "    correct = 0\n",
    "    total = 0\n",
    "    epoch_loss = 0.0\n",
    "    \n",
    "    for images, labels in train_loader:\n",
    "        optimizer.zero_grad()   # Zero the gradient\n",
    "        outputs = model(images) # Forward pass: compute predicted outputs\n",
    "        loss = criterion(outputs, labels) # Compute the loss\n",
    "        loss.backward()     # Backward pass: compute gradient of the loss with respect to model parameters\n",
    "        optimizer.step()    # Update the model parameters based on the gradients\n",
    "        \n",
    "        _, predicted = torch.max(outputs.data, 1)\n",
    "        total += labels.size(0)\n",
    "        correct += (predicted == labels).sum().item()\n",
    "        epoch_loss += loss.item()\n",
    "\n",
    "    train_accuracy = correct / total\n",
    "    train_loss = epoch_loss / len(train_loader)\n",
    "    train_accuracies.append(train_accuracy)\n",
    "    train_losses.append(train_loss)\n",
    "\n",
    "    print(f\"Epoch [{epoch + 1}/{num_epochs}], Loss: {train_loss}, Accuracy: {train_accuracy}\")\n",
    "\n",
    "# Plotting\n",
    "plt.figure(figsize=(10, 5))\n",
    "plt.subplot(1, 2, 1)\n",
    "plt.plot(range(1, num_epochs + 1), train_losses, label='Training Loss')\n",
    "plt.xlabel('Epoch')\n",
    "plt.ylabel('Loss')\n",
    "plt.title('Training Loss')\n",
    "\n",
    "plt.subplot(1, 2, 2)\n",
    "plt.plot(range(1, num_epochs + 1), train_accuracies, label='Training Accuracy')\n",
    "plt.xlabel('Epoch')\n",
    "plt.ylabel('Accuracy')\n",
    "plt.title('Training Accuracy')\n",
    "\n",
    "plt.tight_layout()\n",
    "plt.show()\n"
   ]
  },
  {
   "cell_type": "markdown",
   "metadata": {},
   "source": [
    "## Step 8: Evaluate the model"
   ]
  },
  {
   "cell_type": "code",
   "execution_count": 15,
   "metadata": {},
   "outputs": [
    {
     "name": "stdout",
     "output_type": "stream",
     "text": [
      "Predicted: 4, Actual: 10\n",
      "Predicted: 2, Actual: 12\n",
      "Predicted: 5, Actual: 12\n",
      "Predicted: 2, Actual: 0\n",
      "Predicted: 9, Actual: 12\n",
      "Predicted: 9, Actual: 1\n",
      "Predicted: 11, Actual: 0\n",
      "Predicted: 9, Actual: 8\n",
      "Predicted: 7, Actual: 0\n",
      "Predicted: 7, Actual: 2\n",
      "Predicted: 7, Actual: 5\n",
      "Predicted: 11, Actual: 9\n",
      "Predicted: 7, Actual: 10\n",
      "Predicted: 12, Actual: 7\n",
      "Predicted: 0, Actual: 6\n",
      "Predicted: 0, Actual: 12\n",
      "Predicted: 4, Actual: 8\n",
      "Predicted: 4, Actual: 0\n",
      "Predicted: 7, Actual: 5\n",
      "Predicted: 6, Actual: 8\n",
      "Predicted: 7, Actual: 12\n",
      "Predicted: 7, Actual: 0\n",
      "Predicted: 7, Actual: 12\n",
      "Predicted: 4, Actual: 9\n",
      "Predicted: 9, Actual: 0\n",
      "Predicted: 5, Actual: 12\n",
      "Predicted: 7, Actual: 12\n",
      "Predicted: 2, Actual: 12\n",
      "Predicted: 2, Actual: 6\n",
      "Predicted: 7, Actual: 2\n",
      "Predicted: 12, Actual: 7\n",
      "Predicted: 12, Actual: 7\n",
      "Predicted: 7, Actual: 12\n",
      "Predicted: 2, Actual: 4\n",
      "Predicted: 9, Actual: 12\n",
      "Predicted: 7, Actual: 12\n",
      "Predicted: 0, Actual: 2\n",
      "Predicted: 7, Actual: 12\n",
      "Predicted: 7, Actual: 12\n",
      "Predicted: 9, Actual: 10\n",
      "Predicted: 4, Actual: 0\n",
      "Predicted: 9, Actual: 10\n",
      "Predicted: 11, Actual: 9\n",
      "Predicted: 9, Actual: 10\n",
      "Predicted: 12, Actual: 2\n",
      "Predicted: 0, Actual: 6\n",
      "Predicted: 4, Actual: 10\n",
      "Predicted: 7, Actual: 12\n",
      "Predicted: 6, Actual: 3\n",
      "Predicted: 7, Actual: 12\n",
      "Predicted: 0, Actual: 8\n",
      "Predicted: 7, Actual: 12\n",
      "Predicted: 7, Actual: 12\n",
      "Predicted: 7, Actual: 6\n",
      "Predicted: 0, Actual: 12\n",
      "Predicted: 7, Actual: 12\n",
      "Predicted: 7, Actual: 12\n",
      "Predicted: 7, Actual: 12\n",
      "Predicted: 8, Actual: 6\n",
      "Predicted: 10, Actual: 12\n",
      "Predicted: 12, Actual: 0\n",
      "Predicted: 2, Actual: 0\n",
      "Predicted: 4, Actual: 0\n",
      "Predicted: 7, Actual: 0\n",
      "Predicted: 7, Actual: 12\n",
      "Predicted: 7, Actual: 2\n",
      "Predicted: 7, Actual: 12\n",
      "Predicted: 11, Actual: 0\n",
      "Predicted: 0, Actual: 3\n",
      "Predicted: 7, Actual: 12\n",
      "Predicted: 4, Actual: 7\n",
      "Predicted: 0, Actual: 3\n",
      "Predicted: 7, Actual: 5\n",
      "Test Accuracy: 73.45%\n"
     ]
    }
   ],
   "source": [
    "model.eval()\n",
    "correct = 0\n",
    "total = 0\n",
    "with torch.no_grad():\n",
    "    for images, labels in test_loader:\n",
    "        outputs = model(images)\n",
    "        _, predicted = torch.max(outputs.data, 1)\n",
    "        total += labels.size(0)\n",
    "        correct += (predicted == labels).sum().item()\n",
    "\n",
    "        # Print the predicted and actual labels\n",
    "        for i in range(len(labels)):\n",
    "            if predicted[i] != labels[i]:\n",
    "                print(\"Predicted: {}, Actual: {}\".format(predicted[i], labels[i]))\n",
    "\n",
    "accuracy = correct / total\n",
    "print('Test Accuracy: {:.2f}%'.format(100 * accuracy))"
   ]
  },
  {
   "cell_type": "code",
   "execution_count": 16,
   "metadata": {},
   "outputs": [],
   "source": [
    "# Save the model\n",
    "torch.save(model.state_dict(), f'G:\\Yehmh\\_model\\\\0416_DNDF_resnet_dbh_{int(100 * accuracy)}.pth')"
   ]
  },
  {
   "cell_type": "markdown",
   "metadata": {},
   "source": [
    "## Classify Whole"
   ]
  },
  {
   "cell_type": "code",
   "execution_count": 17,
   "metadata": {},
   "outputs": [],
   "source": [
    "# import os\n",
    "# import cv2\n",
    "# import torch\n",
    "# import rasterio\n",
    "# import numpy as np\n",
    "# from torch.utils.data import DataLoader\n",
    "# from torchvision import transforms\n",
    "# # from your_model_file import CNN  # Import your CNN model class\n",
    "# import csv\n",
    "\n",
    "# # Function to extract coordinates from TIF files\n",
    "# def extract_coordinates(tif_file):\n",
    "#     with rasterio.open(tif_file) as src:\n",
    "#         crs = src.crs\n",
    "#         bounds = src.bounds\n",
    "#         center_x = (bounds.left + bounds.right) / 2\n",
    "#         center_y = (bounds.top + bounds.bottom) / 2\n",
    "#         return crs, (center_x, center_y)\n",
    "\n",
    "# # Define directory containing unknown TIF files\n",
    "# # unknown_photos_dir = 'D:\\\\Yehmh\\\\test_py\\\\202301\\\\P00073_transect_234\\\\10m_10m\\\\unknown'\n",
    "\n",
    "# def classify_and_write(unknown_photos_dir, output_csv_path):\n",
    "\n",
    "#     # Initialize lists to store unknown photo paths, coordinates, and predictions\n",
    "#     unknown_photos = []\n",
    "#     unknown_coordinates = []\n",
    "\n",
    "#     # Iterate over unknown TIF files\n",
    "#     for filename in os.listdir(unknown_photos_dir):\n",
    "#         if filename.endswith('.tif'):\n",
    "#             tif_file = os.path.join(unknown_photos_dir, filename)\n",
    "            \n",
    "#             # Extract coordinates\n",
    "#             crs, coordinates = extract_coordinates(tif_file)\n",
    "            \n",
    "#             # Append to the list\n",
    "#             unknown_photos.append(tif_file)\n",
    "#             unknown_coordinates.append((filename, crs, coordinates))\n",
    "\n",
    "#     # Now you have a list of unknown photo paths (unknown_photos) and corresponding coordinates (unknown_coordinates)\n",
    "\n",
    "#     # Load the trained model\n",
    "#     # model = CNN(num_classes=len(label_encoder.classes_))\n",
    "#     # model.load_state_dict(torch.load('path/to/your/trained/model.pth'))\n",
    "#     model.eval()  # Set the model to evaluation mode\n",
    "\n",
    "#     # Define transformations for the images\n",
    "#     transform = transforms.Compose([\n",
    "#         transforms.ToTensor(),  \n",
    "#         transforms.Normalize((0.5, 0.5, 0.5), (0.5, 0.5, 0.5))  \n",
    "#     ])\n",
    "\n",
    "#     # Make predictions on the unknown photos\n",
    "#     predictions = []\n",
    "#     for photo_path in unknown_photos:\n",
    "#         # Load and preprocess the image\n",
    "#         image = cv2.imread(photo_path)\n",
    "#         image = cv2.resize(image, (64, 64))  # Resize image if necessary\n",
    "#         image = transform(image)\n",
    "#         image = image.unsqueeze(0)  # Add batch dimension\n",
    "        \n",
    "#         # Perform inference\n",
    "#         with torch.no_grad():\n",
    "#             output = model(image)\n",
    "#             predicted_class = torch.argmax(output).item()\n",
    "#             predicted_label = label_encoder.classes_[predicted_class]\n",
    "#             predictions.append(predicted_label)\n",
    "\n",
    "#     # Now you have the predictions for each unknown photo in the list 'predictions'\n",
    "#     # You can proceed to visualize the results on a map using the coordinates\n",
    "#     with open(output_csv_path, 'w', newline='') as csvfile:\n",
    "#         writer = csv.writer(csvfile)\n",
    "#         writer.writerow(['Filename', 'Latitude', 'Longitude', 'Predicted Species'])  # Write header\n",
    "#         for coord, label in zip(unknown_coordinates, predictions):\n",
    "#             filename, crs, (latitude, longitude) = coord\n",
    "#             writer.writerow([filename, latitude, longitude, label])"
   ]
  },
  {
   "cell_type": "code",
   "execution_count": 18,
   "metadata": {},
   "outputs": [],
   "source": [
    "# import csv\n",
    "\n",
    "# # Define output CSV file path\n",
    "# # output_csv_path = 'D:/Yehmh/test_py/202301/P00073_transect_234/10m_10m/species_distribution.csv'\n",
    "\n",
    "\n",
    "# # Write results to CSV file\n",
    "# with open(output_csv_path, 'w', newline='') as csvfile:\n",
    "#     writer = csv.writer(csvfile)\n",
    "#     writer.writerow(['Filename', 'Latitude', 'Longitude', 'Predicted Species'])  # Write header\n",
    "#     for coord, label in zip(unknown_coordinates, predictions):\n",
    "#         filename, crs, (latitude, longitude) = coord\n",
    "#         writer.writerow([filename, latitude, longitude, label])\n"
   ]
  },
  {
   "cell_type": "code",
   "execution_count": 19,
   "metadata": {},
   "outputs": [],
   "source": [
    "# list = [69, 70, 71, 75, 76, 78, 79, 82]\n",
    "\n",
    "# for i in list:\n",
    "#     unknown_photos_dir = f'D:\\\\Yehmh\\\\test_py\\\\202301\\\\P000{i}\\\\5m_5m'\n",
    "#     output_csv_path = f'D:/Yehmh/test_py/202301/P000{i}_species_distribution.csv'\n",
    "    \n",
    "#     classify_and_write(unknown_photos_dir, output_csv_path)\n",
    "    \n",
    "#     print(i, \" done\")"
   ]
  },
  {
   "cell_type": "markdown",
   "metadata": {},
   "source": [
    "### add probabilities"
   ]
  },
  {
   "cell_type": "code",
   "execution_count": 20,
   "metadata": {},
   "outputs": [],
   "source": [
    "# import os\n",
    "# import cv2\n",
    "# import torch\n",
    "# import rasterio\n",
    "# import numpy as np\n",
    "# from torch.utils.data import DataLoader\n",
    "# from torchvision import transforms\n",
    "# # from your_model_file import CNN  # Import your CNN model class\n",
    "# import csv\n",
    "\n",
    "# # Function to extract coordinates from TIF files\n",
    "# def extract_coordinates(tif_file):\n",
    "#     with rasterio.open(tif_file) as src:\n",
    "#         crs = src.crs\n",
    "#         bounds = src.bounds\n",
    "#         center_x = (bounds.left + bounds.right) / 2\n",
    "#         center_y = (bounds.top + bounds.bottom) / 2\n",
    "#         return crs, (center_x, center_y)\n",
    "\n",
    "# # Define directory containing unknown TIF files\n",
    "# # unknown_photos_dir = 'D:\\\\Yehmh\\\\test_py\\\\202301\\\\P00073_transect_234\\\\10m_10m\\\\unknown_cleaned'\n",
    "\n",
    "# def classify_and_write(unknown_photos_dir, output_csv_path):\n",
    "\n",
    "#     # Initialize lists to store unknown photo paths, coordinates, and predictions\n",
    "#     unknown_photos = []\n",
    "#     unknown_coordinates = []\n",
    "\n",
    "#     # Iterate over unknown TIF files\n",
    "#     for filename in os.listdir(unknown_photos_dir):\n",
    "#         if filename.endswith('.tif'):\n",
    "#             tif_file = os.path.join(unknown_photos_dir, filename)\n",
    "            \n",
    "#             # Extract coordinates\n",
    "#             crs, coordinates = extract_coordinates(tif_file)\n",
    "            \n",
    "#             # Append to the list\n",
    "#             unknown_photos.append(tif_file)\n",
    "#             unknown_coordinates.append((filename, crs, coordinates))\n",
    "\n",
    "#     # Now you have a list of unknown photo paths (unknown_photos) and corresponding coordinates (unknown_coordinates)\n",
    "\n",
    "#     # Define a function to classify with threshold\n",
    "#     def classify_with_threshold(probabilities, threshold):\n",
    "#         max_prob, max_index = torch.max(probabilities, dim=1)\n",
    "#         if max_prob.item() < threshold:\n",
    "#             return \"unknown\"\n",
    "#         else:\n",
    "#             predicted_label = label_encoder.classes_[max_index.item()]\n",
    "#             return predicted_label  # Return the index of the class with the maximum probability\n",
    "\n",
    "\n",
    "#     # Load the trained model\n",
    "#     # model = CNN(num_classes=len(label_encoder.classes_))\n",
    "#     # model.load_state_dict(torch.load('path/to/your/trained/model.pth'))\n",
    "#     model.eval()  # Set the model to evaluation mode\n",
    "\n",
    "#     # Define transformations for the images\n",
    "#     transform = transforms.Compose([\n",
    "#         transforms.ToTensor(),  \n",
    "#         transforms.Normalize((0.5, 0.5, 0.5), (0.5, 0.5, 0.5))  \n",
    "#     ])\n",
    "\n",
    "#     # Make predictions on the unknown photos\n",
    "#     predictions = []\n",
    "#     for photo_path in unknown_photos:\n",
    "#         # Load and preprocess the image\n",
    "#         image = cv2.imread(photo_path)\n",
    "#         image = cv2.resize(image, (64, 64))  # Resize image if necessary\n",
    "#         image = transform(image)\n",
    "#         image = image.unsqueeze(0)  # Add batch dimension\n",
    "        \n",
    "#         # Perform inference\n",
    "#         with torch.no_grad():\n",
    "#             output = model(image)\n",
    "#             probabilities = nn.functional.softmax(output, dim=1)  # Apply softmax to get probabilities\n",
    "#             classification = classify_with_threshold(probabilities, threshold=0.7)  # Adjust threshold as needed\n",
    "#             predictions.append(classification)\n",
    "\n",
    "#     # Now you have the predictions for each unknown photo in the list 'predictions'\n",
    "#     # You can proceed to visualize the results on a map using the coordinates\n",
    "#     with open(output_csv_path, 'w', newline='') as csvfile:\n",
    "#         writer = csv.writer(csvfile)\n",
    "#         writer.writerow(['Filename', 'Latitude', 'Longitude', 'Predicted Species'])  # Write header\n",
    "#         for coord, label in zip(unknown_coordinates, predictions):\n",
    "#             filename, crs, (latitude, longitude) = coord\n",
    "#             writer.writerow([filename, latitude, longitude, label])"
   ]
  },
  {
   "cell_type": "code",
   "execution_count": 21,
   "metadata": {},
   "outputs": [],
   "source": [
    "# import csv\n",
    "\n",
    "# # Define output CSV file path\n",
    "# output_csv_path = 'D:/Yehmh/test_py/202301/P00073_transect_234/10m_10m/species_distribution_unclassified_2.csv'\n",
    "\n",
    "# # Write results to CSV file\n",
    "# with open(output_csv_path, 'w', newline='') as csvfile:\n",
    "#     writer = csv.writer(csvfile)\n",
    "#     writer.writerow(['Filename', 'Latitude', 'Longitude', 'Predicted Species'])  # Write header\n",
    "#     for coord, label in zip(unknown_coordinates, predictions):\n",
    "#         filename, crs, (latitude, longitude) = coord\n",
    "#         writer.writerow([filename, latitude, longitude, label])"
   ]
  },
  {
   "cell_type": "code",
   "execution_count": 22,
   "metadata": {},
   "outputs": [],
   "source": [
    "# list = [69, 70, 71, 75, 76, 78, 79, 82]\n",
    "# list = [76, 78, 79, 82]\n",
    "# list = [78]\n",
    "\n",
    "# for i in list:\n",
    "#     unknown_photos_dir = f'D:\\\\Yehmh\\\\test_py\\\\202301\\\\P000{i}\\\\5m_5m'\n",
    "#     output_csv_path = f'D:/Yehmh/test_py/202301/P000{i}_species_distribution_prob_2.csv'\n",
    "    \n",
    "#     classify_and_write(unknown_photos_dir, output_csv_path)\n",
    "    \n",
    "#     print(i, \" done\")"
   ]
  },
  {
   "cell_type": "code",
   "execution_count": 23,
   "metadata": {},
   "outputs": [],
   "source": [
    "# unknown_photos_dir = f'D:\\\\Yehmh\\\\test_py\\\\202301\\\\P00074_transect_1\\\\5m_5m'\n",
    "# output_csv_path = f'D:/Yehmh/test_py/202301/P00074_species_distribution_prob.csv'\n",
    "# classify_and_write(unknown_photos_dir, output_csv_path)\n",
    "# print(\"done 1\")\n",
    "\n",
    "# unknown_photos_dir = f'D:\\\\Yehmh\\\\test_py\\\\202301\\\\P00073_transect_234\\\\5m_5m\\\\unknown'\n",
    "# output_csv_path = f'D:/Yehmh/test_py/202301/P00073_species_distribution_prob.csv'\n",
    "# classify_and_write(unknown_photos_dir, output_csv_path)\n",
    "# print(\"done 2\")"
   ]
  }
 ],
 "metadata": {
  "kernelspec": {
   "display_name": "test",
   "language": "python",
   "name": "python3"
  },
  "language_info": {
   "codemirror_mode": {
    "name": "ipython",
    "version": 3
   },
   "file_extension": ".py",
   "mimetype": "text/x-python",
   "name": "python",
   "nbconvert_exporter": "python",
   "pygments_lexer": "ipython3",
   "version": "3.8.18"
  }
 },
 "nbformat": 4,
 "nbformat_minor": 2
}
