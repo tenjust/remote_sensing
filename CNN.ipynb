{
 "cells": [
  {
   "cell_type": "code",
   "execution_count": 4,
   "metadata": {},
   "outputs": [],
   "source": [
    "import os\n",
    "import pandas as pd\n",
    "import numpy as np\n",
    "import cv2\n",
    "import torch\n",
    "import torch.nn as nn\n",
    "import torch.optim as optim\n",
    "import torchvision.transforms as transforms\n",
    "from torch.utils.data import Dataset, DataLoader\n",
    "from sklearn.model_selection import train_test_split\n",
    "from sklearn.preprocessing import LabelEncoder\n",
    "\n",
    "# Define a custom dataset class\n",
    "class CustomDataset(Dataset):\n",
    "    def __init__(self, images, labels, transform=None):\n",
    "        self.images = images\n",
    "        self.labels = labels\n",
    "        self.transform = transform\n",
    "\n",
    "    def __len__(self):\n",
    "        return len(self.images)\n",
    "\n",
    "    def __getitem__(self, idx):\n",
    "        image = self.images[idx]\n",
    "        label = self.labels[idx]\n",
    "\n",
    "        if self.transform:\n",
    "            image = self.transform(image)\n",
    "\n",
    "        return image, label"
   ]
  },
  {
   "cell_type": "markdown",
   "metadata": {},
   "source": [
    "## Step 1: Data Preparation"
   ]
  },
  {
   "cell_type": "code",
   "execution_count": 5,
   "metadata": {},
   "outputs": [
    {
     "name": "stdout",
     "output_type": "stream",
     "text": [
      "Folder T2S9 does not have a corresponding species label.\n",
      "Folder T4S1 does not have a corresponding species label.\n",
      "Folder T4S4 does not have a corresponding species label.\n"
     ]
    }
   ],
   "source": [
    "species_mapping = pd.read_csv(\"species_percentage.csv\")\n",
    "species_mapping = species_mapping[species_mapping['Percentage'] >= 80]\n",
    "\n",
    "# data_dir = 'D:/Yehmh/test_py/202301/P00074_transect_1/1m_1m/known'\n",
    "# Folder_names = \"T1S\"\n",
    "# image_size = 34\n",
    "\n",
    "data_dir = 'D:/Yehmh/test_py/202301/P00073_transect_234/10m_10m/known'\n",
    "Folder_names = \"T\"\n",
    "\n",
    "X = []  # Features\n",
    "y = []  # Labels\n",
    "\n",
    "for folder in os.listdir(data_dir):\n",
    "    if folder.startswith(Folder_names):\n",
    "        species_info = species_mapping.loc[species_mapping[\"Plot\"] == folder]\n",
    "        if not species_info.empty and not pd.isna(species_info[\"SpeciesID\"].values[0]):\n",
    "            species = species_info[\"SpeciesID\"].values[0]\n",
    "            for file in os.listdir(os.path.join(data_dir, folder)):\n",
    "                if file.endswith(\".tif\"):\n",
    "                    image_path = os.path.join(data_dir, folder, file)\n",
    "                    image = cv2.imread(image_path)\n",
    "                    if image.shape[0] > 64:\n",
    "                        image = cv2.resize(image, (64, 64))  # Resize image if necessary\n",
    "                    else:\n",
    "                        print(\"image size: \", image.shape)\n",
    "                    \n",
    "                    X.append(image)\n",
    "                    y.append(species)\n",
    "        else:\n",
    "            print(f\"Folder {folder} does not have a corresponding species label.\")"
   ]
  },
  {
   "cell_type": "markdown",
   "metadata": {},
   "source": [
    "## Step 2: Data Preprocessing"
   ]
  },
  {
   "cell_type": "code",
   "execution_count": 6,
   "metadata": {},
   "outputs": [],
   "source": [
    "label_encoder = LabelEncoder()\n",
    "y = label_encoder.fit_transform(y)\n",
    "X_train, X_test, y_train, y_test = train_test_split(X, y, test_size=0.2, random_state=42)"
   ]
  },
  {
   "cell_type": "code",
   "execution_count": 7,
   "metadata": {},
   "outputs": [
    {
     "name": "stdout",
     "output_type": "stream",
     "text": [
      "[2 4 5 6]\n",
      "[3 3 2 2 3 3 3 3 3 3 3 3 3 3 3 3 3 3 3 3 3 3 3 3 3 3 3 3 3 1 1 1 3 3 3 1 1\n",
      " 1 1 1 1 1 1 1 1 1 1 3 3 3 3 3 3 3 3 3 3 3 3 1 1 0 0 0 0 0 0 0 0 0 0 0 0 0\n",
      " 0 0 0 0 0 0 0 0 0]\n",
      "66 17\n"
     ]
    }
   ],
   "source": [
    "print(label_encoder.classes_)\n",
    "print(y)\n",
    "print(len(X_train), len(X_test))"
   ]
  },
  {
   "cell_type": "markdown",
   "metadata": {},
   "source": [
    "## Step 3: Define transformations and create datasets"
   ]
  },
  {
   "cell_type": "code",
   "execution_count": 8,
   "metadata": {},
   "outputs": [],
   "source": [
    "transform = transforms.Compose([\n",
    "    transforms.ToTensor(),  # Convert image to PyTorch tensor\n",
    "    transforms.Normalize((0.5, 0.5, 0.5), (0.5, 0.5, 0.5))  # Normalize image data\n",
    "])\n",
    "\n",
    "train_dataset = CustomDataset(X_train, y_train, transform=transform)\n",
    "test_dataset = CustomDataset(X_test, y_test, transform=transform)"
   ]
  },
  {
   "cell_type": "code",
   "execution_count": 9,
   "metadata": {},
   "outputs": [],
   "source": [
    "# # Data Augmentation ------\n",
    "\n",
    "# from PIL import Image\n",
    "\n",
    "# train_transform = transforms.Compose([\n",
    "#     transforms.Lambda(lambda x: Image.fromarray(x)),  # Convert NumPy array to PIL Image\n",
    "#     transforms.RandomHorizontalFlip(),  # Randomly flip the images horizontally\n",
    "#     transforms.RandomRotation(degrees=15),  # Randomly rotate the images by up to 15 degrees\n",
    "#     transforms.RandomCrop(size=(32, 32), padding=4),  # Randomly crop a 32x32 region of the image with padding\n",
    "#     transforms.ToTensor(),  # Convert image to PyTorch tensor\n",
    "#     transforms.Normalize(mean=[0.5, 0.5, 0.5], std=[0.5, 0.5, 0.5])  # Normalize image data\n",
    "# ])\n",
    "\n",
    "# test_transform = transforms.Compose([\n",
    "#     transforms.ToTensor(),  # Convert image to PyTorch tensor\n",
    "#     transforms.Normalize(mean=[0.5, 0.5, 0.5], std=[0.5, 0.5, 0.5])  # Normalize image data\n",
    "# ])\n",
    "\n",
    "# train_dataset = CustomDataset(X_train, y_train, transform=train_transform)\n",
    "# test_dataset = CustomDataset(X_test, y_test, transform=test_transform)"
   ]
  },
  {
   "cell_type": "markdown",
   "metadata": {},
   "source": [
    "## Step 4: Create data loaders"
   ]
  },
  {
   "cell_type": "code",
   "execution_count": 10,
   "metadata": {},
   "outputs": [],
   "source": [
    "batch_size = 32\n",
    "\n",
    "train_loader = DataLoader(train_dataset, batch_size=batch_size, shuffle=True)\n",
    "test_loader = DataLoader(test_dataset, batch_size=batch_size, shuffle=False)\n",
    "# test_loader is created with shuffle=False. \n",
    "# Ensures that the evaluation process remains consistent across different evaluations \n",
    "# and that the model is tested on the same data distribution every time"
   ]
  },
  {
   "cell_type": "markdown",
   "metadata": {},
   "source": [
    "## Step 5: Define the CNN model"
   ]
  },
  {
   "cell_type": "code",
   "execution_count": 11,
   "metadata": {},
   "outputs": [
    {
     "name": "stdout",
     "output_type": "stream",
     "text": [
      "(64, 64, 3)\n"
     ]
    }
   ],
   "source": [
    "print(image.shape)"
   ]
  },
  {
   "cell_type": "code",
   "execution_count": 12,
   "metadata": {},
   "outputs": [],
   "source": [
    "class CNN(nn.Module):\n",
    "    def __init__(self, num_classes):\n",
    "        super(CNN, self).__init__()\n",
    "        # Define the convolutional layers\n",
    "        self.conv1 = nn.Conv2d(3, 32, kernel_size=3, padding=1)     # (in_channels (rgb), out_channels, filter_num, stride, padding), default stride = 1\n",
    "        self.conv2 = nn.Conv2d(32, 64, kernel_size=3, padding=1)\n",
    "        self.conv3 = nn.Conv2d(64, 64, kernel_size=3, padding=1)\n",
    "        # Define the fully connected layers\n",
    "        self.fc1 = nn.Linear(64 * 8 * 8, 128)\n",
    "        # self.fc1 = nn.Linear(64 * 4 * 4, 128)\n",
    "        self.fc2 = nn.Linear(128, num_classes)\n",
    "\n",
    "    def forward(self, x):\n",
    "        # Define the forward pass through the network\n",
    "        x = nn.functional.relu(self.conv1(x))\n",
    "        x = nn.functional.max_pool2d(x, 2)\n",
    "        x = nn.functional.relu(self.conv2(x))\n",
    "        x = nn.functional.max_pool2d(x, 2)\n",
    "        x = nn.functional.relu(self.conv3(x))\n",
    "        x = nn.functional.max_pool2d(x, 2)\n",
    "        # x = x.view(-1, 64 * 16 * 16)\n",
    "        x = x.view(x.size(0), -1)\n",
    "        x = nn.functional.relu(self.fc1(x))\n",
    "        x = self.fc2(x)\n",
    "        return x"
   ]
  },
  {
   "cell_type": "markdown",
   "metadata": {},
   "source": [
    "## Step 6: Initialize model. loss function, and optimizer"
   ]
  },
  {
   "cell_type": "code",
   "execution_count": 13,
   "metadata": {},
   "outputs": [],
   "source": [
    "model = CNN(num_classes=len(label_encoder.classes_))\n",
    "criterion = nn.CrossEntropyLoss()\n",
    "optimizer = optim.Adam(model.parameters(), lr=0.001)"
   ]
  },
  {
   "cell_type": "code",
   "execution_count": 14,
   "metadata": {},
   "outputs": [
    {
     "name": "stdout",
     "output_type": "stream",
     "text": [
      "4\n"
     ]
    }
   ],
   "source": [
    "print(len(label_encoder.classes_))"
   ]
  },
  {
   "cell_type": "markdown",
   "metadata": {},
   "source": [
    "## Step 7: Train the model"
   ]
  },
  {
   "cell_type": "code",
   "execution_count": 15,
   "metadata": {},
   "outputs": [],
   "source": [
    "def accuracy(predictions, laels):\n",
    "    pred = torch.max(prediction.data, 1)[1]\n",
    "    rights = pred.eq(labels.data.view_as(pred)).sum()\n",
    "    return rights, len(labels)"
   ]
  },
  {
   "cell_type": "code",
   "execution_count": 16,
   "metadata": {},
   "outputs": [],
   "source": [
    "# num_epochs = 5000\n",
    "# for epoch in range(num_epochs):\n",
    "#     model.train()\n",
    "#     for images, labels in train_loader:\n",
    "#         # print(\"Batch Shape - Images:\", images.shape)\n",
    "#         # print(\"Batch Shape - Labels:\", labels.shape)\n",
    "\n",
    "#         optimizer.zero_grad()   # Zero the gradient\n",
    "#         outputs = model(images) # Forward pass: computer predicted outputs\n",
    "#         # print(outputs.shape)\n",
    "#         loss = criterion(outputs, labels) # Compute the loss\n",
    "#         loss.backward()     # Backward pass: compute gradient of the loss with respect to model parameters\n",
    "#         optimizer.step()    # Update the model parameters based on the gradients\n",
    "\n",
    "#     print(f\"Epoch [{epoch + 1}/{num_epochs}], Loss: {loss.item()}\")"
   ]
  },
  {
   "cell_type": "code",
   "execution_count": 17,
   "metadata": {},
   "outputs": [
    {
     "name": "stdout",
     "output_type": "stream",
     "text": [
      "Epoch [1/100], Loss: 1.2356757322947185, Accuracy: 0.45454545454545453\n",
      "Epoch [2/100], Loss: 1.6588174104690552, Accuracy: 0.48484848484848486\n",
      "Epoch [3/100], Loss: 1.2418131828308105, Accuracy: 0.2878787878787879\n",
      "Epoch [4/100], Loss: 1.2311012744903564, Accuracy: 0.2878787878787879\n",
      "Epoch [5/100], Loss: 1.2457009553909302, Accuracy: 0.2878787878787879\n",
      "Epoch [6/100], Loss: 1.3306970993677776, Accuracy: 0.30303030303030304\n",
      "Epoch [7/100], Loss: 1.1211367050806682, Accuracy: 0.3484848484848485\n",
      "Epoch [8/100], Loss: 1.2210538387298584, Accuracy: 0.30303030303030304\n",
      "Epoch [9/100], Loss: 1.0804399649302165, Accuracy: 0.5909090909090909\n",
      "Epoch [10/100], Loss: 0.99557892481486, Accuracy: 0.696969696969697\n",
      "Epoch [11/100], Loss: 0.9155659476915995, Accuracy: 0.6515151515151515\n",
      "Epoch [12/100], Loss: 0.967978040377299, Accuracy: 0.6818181818181818\n",
      "Epoch [13/100], Loss: 0.8604268829027811, Accuracy: 0.6363636363636364\n",
      "Epoch [14/100], Loss: 0.8277642130851746, Accuracy: 0.48484848484848486\n",
      "Epoch [15/100], Loss: 0.6180938978989919, Accuracy: 0.7424242424242424\n",
      "Epoch [16/100], Loss: 0.5461554874976476, Accuracy: 0.696969696969697\n",
      "Epoch [17/100], Loss: 0.8575402895609537, Accuracy: 0.696969696969697\n",
      "Epoch [18/100], Loss: 0.6606999635696411, Accuracy: 0.696969696969697\n",
      "Epoch [19/100], Loss: 0.6466690897941589, Accuracy: 0.5757575757575758\n",
      "Epoch [20/100], Loss: 0.7341075738271078, Accuracy: 0.5757575757575758\n",
      "Epoch [21/100], Loss: 0.46274515986442566, Accuracy: 0.8484848484848485\n",
      "Epoch [22/100], Loss: 0.6317291061083475, Accuracy: 0.7575757575757576\n",
      "Epoch [23/100], Loss: 0.4364538292090098, Accuracy: 0.8181818181818182\n",
      "Epoch [24/100], Loss: 0.36895743012428284, Accuracy: 0.8636363636363636\n",
      "Epoch [25/100], Loss: 0.4052322208881378, Accuracy: 0.8787878787878788\n",
      "Epoch [26/100], Loss: 0.47053593397140503, Accuracy: 0.803030303030303\n",
      "Epoch [27/100], Loss: 0.6689517100652059, Accuracy: 0.7878787878787878\n",
      "Epoch [28/100], Loss: 0.3728109747171402, Accuracy: 0.8333333333333334\n",
      "Epoch [29/100], Loss: 0.42266374826431274, Accuracy: 0.8333333333333334\n",
      "Epoch [30/100], Loss: 0.6454428980747858, Accuracy: 0.9545454545454546\n",
      "Epoch [31/100], Loss: 0.34141844511032104, Accuracy: 0.8787878787878788\n",
      "Epoch [32/100], Loss: 0.24979479114214578, Accuracy: 0.9393939393939394\n",
      "Epoch [33/100], Loss: 0.26583661139011383, Accuracy: 0.9545454545454546\n",
      "Epoch [34/100], Loss: 0.19314426680405936, Accuracy: 0.9393939393939394\n",
      "Epoch [35/100], Loss: 0.14205293357372284, Accuracy: 0.9393939393939394\n",
      "Epoch [36/100], Loss: 0.1205320159594218, Accuracy: 0.9696969696969697\n",
      "Epoch [37/100], Loss: 0.14023505228882036, Accuracy: 0.9242424242424242\n",
      "Epoch [38/100], Loss: 0.08000440391454806, Accuracy: 0.9242424242424242\n",
      "Epoch [39/100], Loss: 0.058160802039007344, Accuracy: 0.9848484848484849\n",
      "Epoch [40/100], Loss: 0.0698026263465484, Accuracy: 0.9696969696969697\n",
      "Epoch [41/100], Loss: 0.03705379397918781, Accuracy: 0.9848484848484849\n",
      "Epoch [42/100], Loss: 0.03341670148074627, Accuracy: 1.0\n",
      "Epoch [43/100], Loss: 0.033964273830254875, Accuracy: 0.9848484848484849\n",
      "Epoch [44/100], Loss: 0.028278852502504986, Accuracy: 1.0\n",
      "Epoch [45/100], Loss: 0.016545755167802174, Accuracy: 1.0\n",
      "Epoch [46/100], Loss: 0.01240232881779472, Accuracy: 1.0\n",
      "Epoch [47/100], Loss: 0.010369062656536698, Accuracy: 1.0\n",
      "Epoch [48/100], Loss: 0.006603365293509948, Accuracy: 1.0\n",
      "Epoch [49/100], Loss: 0.005972238723188639, Accuracy: 1.0\n",
      "Epoch [50/100], Loss: 0.010265524964779615, Accuracy: 1.0\n",
      "Epoch [51/100], Loss: 0.004487755376127704, Accuracy: 1.0\n",
      "Epoch [52/100], Loss: 0.0059390369181831675, Accuracy: 1.0\n",
      "Epoch [53/100], Loss: 0.0029615983075927943, Accuracy: 1.0\n",
      "Epoch [54/100], Loss: 0.0051602999834964676, Accuracy: 1.0\n",
      "Epoch [55/100], Loss: 0.006266432503859202, Accuracy: 1.0\n",
      "Epoch [56/100], Loss: 0.0030507774402697883, Accuracy: 1.0\n",
      "Epoch [57/100], Loss: 0.003016359405592084, Accuracy: 1.0\n",
      "Epoch [58/100], Loss: 0.0023907160696883998, Accuracy: 1.0\n",
      "Epoch [59/100], Loss: 0.00334885623306036, Accuracy: 1.0\n",
      "Epoch [60/100], Loss: 0.0013777075995070238, Accuracy: 1.0\n",
      "Epoch [61/100], Loss: 0.0015594261737229924, Accuracy: 1.0\n",
      "Epoch [62/100], Loss: 0.0025388108721623817, Accuracy: 1.0\n",
      "Epoch [63/100], Loss: 0.0017506146105006337, Accuracy: 1.0\n",
      "Epoch [64/100], Loss: 0.0016198367423688371, Accuracy: 1.0\n",
      "Epoch [65/100], Loss: 0.0014455989003181458, Accuracy: 1.0\n",
      "Epoch [66/100], Loss: 0.0013925431218619149, Accuracy: 1.0\n",
      "Epoch [67/100], Loss: 0.0009448736091144383, Accuracy: 1.0\n",
      "Epoch [68/100], Loss: 0.0012218158420485754, Accuracy: 1.0\n",
      "Epoch [69/100], Loss: 0.0008038009497492263, Accuracy: 1.0\n",
      "Epoch [70/100], Loss: 0.0007107359839816733, Accuracy: 1.0\n",
      "Epoch [71/100], Loss: 0.0008026771926476309, Accuracy: 1.0\n",
      "Epoch [72/100], Loss: 0.0006859016818149636, Accuracy: 1.0\n",
      "Epoch [73/100], Loss: 0.0007289584318641573, Accuracy: 1.0\n",
      "Epoch [74/100], Loss: 0.0018927128791498642, Accuracy: 1.0\n",
      "Epoch [75/100], Loss: 0.0006116644872236066, Accuracy: 1.0\n",
      "Epoch [76/100], Loss: 0.0006733376552195599, Accuracy: 1.0\n",
      "Epoch [77/100], Loss: 0.0006804096628722315, Accuracy: 1.0\n",
      "Epoch [78/100], Loss: 0.0006692587982494539, Accuracy: 1.0\n",
      "Epoch [79/100], Loss: 0.000623898430300566, Accuracy: 1.0\n",
      "Epoch [80/100], Loss: 0.0005976174822232375, Accuracy: 1.0\n",
      "Epoch [81/100], Loss: 0.0006732243540075918, Accuracy: 1.0\n",
      "Epoch [82/100], Loss: 0.0008877129876054823, Accuracy: 1.0\n",
      "Epoch [83/100], Loss: 0.00045037731554960675, Accuracy: 1.0\n",
      "Epoch [84/100], Loss: 0.0006154273481418689, Accuracy: 1.0\n",
      "Epoch [85/100], Loss: 0.00045780591123426956, Accuracy: 1.0\n",
      "Epoch [86/100], Loss: 0.000499490803728501, Accuracy: 1.0\n",
      "Epoch [87/100], Loss: 0.0003863872037375889, Accuracy: 1.0\n",
      "Epoch [88/100], Loss: 0.00038084020040211425, Accuracy: 1.0\n",
      "Epoch [89/100], Loss: 0.0005232129866878191, Accuracy: 1.0\n",
      "Epoch [90/100], Loss: 0.0011752655943079542, Accuracy: 1.0\n",
      "Epoch [91/100], Loss: 0.0005956235593960931, Accuracy: 1.0\n",
      "Epoch [92/100], Loss: 0.00038939903606660664, Accuracy: 1.0\n",
      "Epoch [93/100], Loss: 0.00041632214561104774, Accuracy: 1.0\n",
      "Epoch [94/100], Loss: 0.0004575644076491396, Accuracy: 1.0\n",
      "Epoch [95/100], Loss: 0.00035265595943201333, Accuracy: 1.0\n",
      "Epoch [96/100], Loss: 0.0005543494674687585, Accuracy: 1.0\n",
      "Epoch [97/100], Loss: 0.00046033609154013294, Accuracy: 1.0\n",
      "Epoch [98/100], Loss: 0.0002958994994817961, Accuracy: 1.0\n",
      "Epoch [99/100], Loss: 0.0003198206298596536, Accuracy: 1.0\n",
      "Epoch [100/100], Loss: 0.0002771945607188779, Accuracy: 1.0\n"
     ]
    },
    {
     "data": {
      "image/png": "[encoded data removed]",
      "text/plain": [
       "<Figure size 1000x500 with 2 Axes>"
      ]
     },
     "metadata": {},
     "output_type": "display_data"
    }
   ],
   "source": [
    "import matplotlib.pyplot as plt\n",
    "\n",
    "num_epochs = 100\n",
    "train_losses = []\n",
    "train_accuracies = []\n",
    "\n",
    "for epoch in range(num_epochs):\n",
    "    model.train()\n",
    "    correct = 0\n",
    "    total = 0\n",
    "    epoch_loss = 0.0\n",
    "    \n",
    "    for images, labels in train_loader:\n",
    "        optimizer.zero_grad()   # Zero the gradient\n",
    "        outputs = model(images) # Forward pass: compute predicted outputs\n",
    "        loss = criterion(outputs, labels) # Compute the loss\n",
    "        loss.backward()     # Backward pass: compute gradient of the loss with respect to model parameters\n",
    "        optimizer.step()    # Update the model parameters based on the gradients\n",
    "        \n",
    "        _, predicted = torch.max(outputs.data, 1)\n",
    "        total += labels.size(0)\n",
    "        correct += (predicted == labels).sum().item()\n",
    "        epoch_loss += loss.item()\n",
    "\n",
    "    train_accuracy = correct / total\n",
    "    train_loss = epoch_loss / len(train_loader)\n",
    "    train_accuracies.append(train_accuracy)\n",
    "    train_losses.append(train_loss)\n",
    "\n",
    "    print(f\"Epoch [{epoch + 1}/{num_epochs}], Loss: {train_loss}, Accuracy: {train_accuracy}\")\n",
    "\n",
    "# Plotting\n",
    "plt.figure(figsize=(10, 5))\n",
    "plt.subplot(1, 2, 1)\n",
    "plt.plot(range(1, num_epochs + 1), train_losses, label='Training Loss')\n",
    "plt.xlabel('Epoch')\n",
    "plt.ylabel('Loss')\n",
    "plt.title('Training Loss')\n",
    "\n",
    "plt.subplot(1, 2, 2)\n",
    "plt.plot(range(1, num_epochs + 1), train_accuracies, label='Training Accuracy')\n",
    "plt.xlabel('Epoch')\n",
    "plt.ylabel('Accuracy')\n",
    "plt.title('Training Accuracy')\n",
    "\n",
    "plt.tight_layout()\n",
    "plt.show()\n"
   ]
  },
  {
   "cell_type": "markdown",
   "metadata": {},
   "source": [
    "## Step 8: Evaluate the model"
   ]
  },
  {
   "cell_type": "code",
   "execution_count": 18,
   "metadata": {},
   "outputs": [
    {
     "name": "stdout",
     "output_type": "stream",
     "text": [
      "Predicted: 1, Actual: 1\n",
      "Predicted: 1, Actual: 3\n",
      "Predicted: 3, Actual: 3\n",
      "Predicted: 1, Actual: 1\n",
      "Predicted: 3, Actual: 3\n",
      "Predicted: 3, Actual: 3\n",
      "Predicted: 3, Actual: 3\n",
      "Predicted: 3, Actual: 3\n",
      "Predicted: 3, Actual: 3\n",
      "Predicted: 3, Actual: 3\n",
      "Predicted: 3, Actual: 3\n",
      "Predicted: 1, Actual: 3\n",
      "Predicted: 0, Actual: 0\n",
      "Predicted: 1, Actual: 1\n",
      "Predicted: 1, Actual: 0\n",
      "Predicted: 3, Actual: 1\n",
      "Predicted: 0, Actual: 0\n",
      "Test Accuracy: 76.47%\n"
     ]
    }
   ],
   "source": [
    "model.eval()\n",
    "correct = 0\n",
    "total = 0\n",
    "with torch.no_grad():\n",
    "    for images, labels in test_loader:\n",
    "        outputs = model(images)\n",
    "        _, predicted = torch.max(outputs.data, 1)\n",
    "        total += labels.size(0)\n",
    "        correct += (predicted == labels).sum().item()\n",
    "\n",
    "        # Print the predicted and actual labels\n",
    "        for i in range(len(labels)):\n",
    "            print(\"Predicted: {}, Actual: {}\".format(predicted[i], labels[i]))\n",
    "\n",
    "accuracy = correct / total\n",
    "print('Test Accuracy: {:.2f}%'.format(100 * accuracy))"
   ]
  },
  {
   "cell_type": "markdown",
   "metadata": {},
   "source": [
    "## Visualize Results"
   ]
  },
  {
   "cell_type": "code",
   "execution_count": 19,
   "metadata": {},
   "outputs": [],
   "source": [
    "import os\n",
    "import cv2\n",
    "import torch\n",
    "import rasterio\n",
    "import numpy as np\n",
    "from torch.utils.data import DataLoader\n",
    "from torchvision import transforms\n",
    "# from your_model_file import CNN  # Import your CNN model class\n",
    "\n",
    "# Function to extract coordinates from TIF files\n",
    "def extract_coordinates(tif_file):\n",
    "    with rasterio.open(tif_file) as src:\n",
    "        crs = src.crs\n",
    "        bounds = src.bounds\n",
    "        center_x = (bounds.left + bounds.right) / 2\n",
    "        center_y = (bounds.top + bounds.bottom) / 2\n",
    "        return crs, (center_x, center_y)\n",
    "\n",
    "# Define directory containing unknown TIF files\n",
    "unknown_photos_dir = 'D:\\\\Yehmh\\\\test_py\\\\202301\\\\P00073_transect_234\\\\10m_10m\\\\unknown'\n",
    "\n",
    "# Initialize lists to store unknown photo paths, coordinates, and predictions\n",
    "unknown_photos = []\n",
    "unknown_coordinates = []\n",
    "\n",
    "# Iterate over unknown TIF files\n",
    "for filename in os.listdir(unknown_photos_dir):\n",
    "    if filename.endswith('.tif'):\n",
    "        tif_file = os.path.join(unknown_photos_dir, filename)\n",
    "        \n",
    "        # Extract coordinates\n",
    "        crs, coordinates = extract_coordinates(tif_file)\n",
    "        \n",
    "        # Append to the list\n",
    "        unknown_photos.append(tif_file)\n",
    "        unknown_coordinates.append((filename, crs, coordinates))\n",
    "\n",
    "# Now you have a list of unknown photo paths (unknown_photos) and corresponding coordinates (unknown_coordinates)\n",
    "\n",
    "# Load the trained model\n",
    "# model = CNN(num_classes=len(label_encoder.classes_))\n",
    "# model.load_state_dict(torch.load('path/to/your/trained/model.pth'))\n",
    "model.eval()  # Set the model to evaluation mode\n",
    "\n",
    "# Define transformations for the images\n",
    "transform = transforms.Compose([\n",
    "    transforms.ToTensor(),  \n",
    "    transforms.Normalize((0.5, 0.5, 0.5), (0.5, 0.5, 0.5))  \n",
    "])\n",
    "\n",
    "# Make predictions on the unknown photos\n",
    "predictions = []\n",
    "for photo_path in unknown_photos:\n",
    "    # Load and preprocess the image\n",
    "    image = cv2.imread(photo_path)\n",
    "    image = cv2.resize(image, (64, 64))  # Resize image if necessary\n",
    "    image = transform(image)\n",
    "    image = image.unsqueeze(0)  # Add batch dimension\n",
    "    \n",
    "    # Perform inference\n",
    "    with torch.no_grad():\n",
    "        output = model(image)\n",
    "        predicted_class = torch.argmax(output).item()\n",
    "        predicted_label = label_encoder.classes_[predicted_class]\n",
    "        predictions.append(predicted_label)\n",
    "\n",
    "# Now you have the predictions for each unknown photo in the list 'predictions'\n",
    "# You can proceed to visualize the results on a map using the coordinates\n"
   ]
  },
  {
   "cell_type": "code",
   "execution_count": null,
   "metadata": {},
   "outputs": [],
   "source": [
    "import matplotlib.pyplot as plt\n",
    "\n",
    "# Define colors for different species (adjust as needed)\n",
    "species_colors = {\n",
    "    '2': 'red',     # 大葉欖仁\n",
    "    '4': 'green',   # 桃花心木\n",
    "    '5': 'blue',    # 白雞油\n",
    "    '6': 'yellow'   # 茄苳\n",
    "    # Add more species colors as needed\n",
    "}\n",
    "\n",
    "# Plot the map\n",
    "plt.figure(figsize=(10, 8))\n",
    "\n",
    "# Plot each point on the map\n",
    "for coord, label in zip(unknown_coordinates, predictions):\n",
    "    filename, crs, (latitude, longitude) = coord\n",
    "    color = species_colors.get(label, 'black')  # Default to black if species not found in colors dictionary\n",
    "    plt.scatter(longitude, latitude, color=color, label=label)\n",
    "    plt.text(longitude, latitude, filename, fontsize=9)  # Add filename as label\n",
    "\n",
    "# Customize the plot\n",
    "plt.xlabel('Longitude')\n",
    "plt.ylabel('Latitude')\n",
    "plt.title('Species Distribution Map')\n",
    "plt.grid(True)\n",
    "plt.legend()  # Add legend to show species colors\n",
    "plt.show()\n"
   ]
  },
  {
   "cell_type": "code",
   "execution_count": 21,
   "metadata": {},
   "outputs": [],
   "source": [
    "import csv\n",
    "\n",
    "# Define output CSV file path\n",
    "output_csv_path = 'D:/Yehmh/test_py/202301/P00073_transect_234/10m_10m/species_distribution.csv'\n",
    "\n",
    "# Write results to CSV file\n",
    "with open(output_csv_path, 'w', newline='') as csvfile:\n",
    "    writer = csv.writer(csvfile)\n",
    "    writer.writerow(['Filename', 'Latitude', 'Longitude', 'Predicted Species'])  # Write header\n",
    "    for coord, label in zip(unknown_coordinates, predictions):\n",
    "        filename, crs, (latitude, longitude) = coord\n",
    "        writer.writerow([filename, latitude, longitude, label])\n"
   ]
  }
 ],
 "metadata": {
  "kernelspec": {
   "display_name": "test",
   "language": "python",
   "name": "python3"
  },
  "language_info": {
   "codemirror_mode": {
    "name": "ipython",
    "version": 3
   },
   "file_extension": ".py",
   "mimetype": "text/x-python",
   "name": "python",
   "nbconvert_exporter": "python",
   "pygments_lexer": "ipython3",
   "version": "3.8.18"
  }
 },
 "nbformat": 4,
 "nbformat_minor": 2
}
