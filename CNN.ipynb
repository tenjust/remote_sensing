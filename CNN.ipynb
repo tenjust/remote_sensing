{
 "cells": [
  {
   "cell_type": "code",
   "execution_count": 135,
   "metadata": {},
   "outputs": [],
   "source": [
    "import os\n",
    "import pandas as pd\n",
    "import numpy as np\n",
    "import cv2\n",
    "import torch\n",
    "import torch.nn as nn\n",
    "import torch.optim as optim\n",
    "import torchvision.transforms as transforms\n",
    "from torch.utils.data import Dataset, DataLoader\n",
    "from sklearn.model_selection import train_test_split\n",
    "from sklearn.preprocessing import LabelEncoder\n",
    "\n",
    "# Define a custom dataset class\n",
    "class CustomDataset(Dataset):\n",
    "    def __init__(self, images, labels, transform=None):\n",
    "        self.images = images\n",
    "        self.labels = labels\n",
    "        self.transform = transform\n",
    "\n",
    "    def __len__(self):\n",
    "        return len(self.images)\n",
    "\n",
    "    def __getitem__(self, idx):\n",
    "        image = self.images[idx]\n",
    "        label = self.labels[idx]\n",
    "\n",
    "        if self.transform:\n",
    "            image = self.transform(image)\n",
    "\n",
    "        return image, label"
   ]
  },
  {
   "cell_type": "markdown",
   "metadata": {},
   "source": [
    "## Step 1: Data Preparation"
   ]
  },
  {
   "cell_type": "code",
   "execution_count": 136,
   "metadata": {},
   "outputs": [
    {
     "name": "stdout",
     "output_type": "stream",
     "text": [
      "Folder T2S9 does not have a corresponding species label.\n",
      "Folder T4S1 does not have a corresponding species label.\n",
      "Folder T4S4 does not have a corresponding species label.\n"
     ]
    }
   ],
   "source": [
    "species_mapping = pd.read_csv(\"species_percentage.csv\")\n",
    "species_mapping = species_mapping[species_mapping['Percentage'] >= 80]\n",
    "\n",
    "# data_dir = 'D:/Yehmh/test_py/202301/P00074_transect_1/1m_1m/known'\n",
    "# Folder_names = \"T1S\"\n",
    "# image_size = 34\n",
    "\n",
    "data_dir = 'D:/Yehmh/test_py/202301/P00073_transect_234/10m_10m/known'\n",
    "Folder_names = \"T\"\n",
    "\n",
    "X = []  # Features\n",
    "y = []  # Labels\n",
    "\n",
    "for folder in os.listdir(data_dir):\n",
    "    if folder.startswith(Folder_names):\n",
    "        species_info = species_mapping.loc[species_mapping[\"Plot\"] == folder]\n",
    "        if not species_info.empty and not pd.isna(species_info[\"SpeciesID\"].values[0]):\n",
    "            species = species_info[\"SpeciesID\"].values[0]\n",
    "            for file in os.listdir(os.path.join(data_dir, folder)):\n",
    "                if file.endswith(\".tif\"):\n",
    "                    image_path = os.path.join(data_dir, folder, file)\n",
    "                    image = cv2.imread(image_path)\n",
    "                    if image.shape[0] > 64:\n",
    "                        image = cv2.resize(image, (64, 64))  # Resize image if necessary\n",
    "                    else:\n",
    "                        print(\"image size: \", image.shape)\n",
    "                    \n",
    "                    X.append(image)\n",
    "                    y.append(species)\n",
    "        else:\n",
    "            print(f\"Folder {folder} does not have a corresponding species label.\")"
   ]
  },
  {
   "cell_type": "markdown",
   "metadata": {},
   "source": [
    "## Step 2: Data Preprocessing"
   ]
  },
  {
   "cell_type": "code",
   "execution_count": 137,
   "metadata": {},
   "outputs": [],
   "source": [
    "label_encoder = LabelEncoder()\n",
    "y = label_encoder.fit_transform(y)\n",
    "X_train, X_test, y_train, y_test = train_test_split(X, y, test_size=0.2, random_state=42)"
   ]
  },
  {
   "cell_type": "code",
   "execution_count": 138,
   "metadata": {},
   "outputs": [
    {
     "name": "stdout",
     "output_type": "stream",
     "text": [
      "[2 4 5 6]\n",
      "[3 3 2 2 3 3 3 3 3 3 3 3 3 3 3 3 3 3 3 3 3 3 3 3 3 3 3 3 3 1 1 1 3 3 3 1 1\n",
      " 1 1 1 1 1 1 1 1 1 1 3 3 3 3 3 3 3 3 3 3 3 3 1 1 0 0 0 0 0 0 0 0 0 0 0 0 0\n",
      " 0 0 0 0 0 0 0 0 0]\n",
      "66 17\n"
     ]
    }
   ],
   "source": [
    "print(label_encoder.classes_)\n",
    "print(y)\n",
    "print(len(X_train), len(X_test))"
   ]
  },
  {
   "cell_type": "markdown",
   "metadata": {},
   "source": [
    "## Step 3: Define transformations and create datasets"
   ]
  },
  {
   "cell_type": "code",
   "execution_count": 139,
   "metadata": {},
   "outputs": [],
   "source": [
    "transform = transforms.Compose([\n",
    "    transforms.ToTensor(),  # Convert image to PyTorch tensor\n",
    "    transforms.Normalize((0.5, 0.5, 0.5), (0.5, 0.5, 0.5))  # Normalize image data\n",
    "])\n",
    "\n",
    "train_dataset = CustomDataset(X_train, y_train, transform=transform)\n",
    "test_dataset = CustomDataset(X_test, y_test, transform=transform)"
   ]
  },
  {
   "cell_type": "markdown",
   "metadata": {},
   "source": [
    "## Step 4: Create data loaders"
   ]
  },
  {
   "cell_type": "code",
   "execution_count": 140,
   "metadata": {},
   "outputs": [],
   "source": [
    "batch_size = 32\n",
    "\n",
    "train_loader = DataLoader(train_dataset, batch_size=batch_size, shuffle=True)\n",
    "test_loader = DataLoader(test_dataset, batch_size=batch_size, shuffle=False)\n",
    "# test_loader is created with shuffle=False. \n",
    "# Ensures that the evaluation process remains consistent across different evaluations \n",
    "# and that the model is tested on the same data distribution every time"
   ]
  },
  {
   "cell_type": "markdown",
   "metadata": {},
   "source": [
    "## Step 5: Define the CNN model"
   ]
  },
  {
   "cell_type": "code",
   "execution_count": 141,
   "metadata": {},
   "outputs": [
    {
     "name": "stdout",
     "output_type": "stream",
     "text": [
      "(64, 64, 3)\n"
     ]
    }
   ],
   "source": [
    "print(image.shape)"
   ]
  },
  {
   "cell_type": "code",
   "execution_count": 142,
   "metadata": {},
   "outputs": [],
   "source": [
    "class CNN(nn.Module):\n",
    "    def __init__(self, num_classes):\n",
    "        super(CNN, self).__init__()\n",
    "        # Define the convolutional layers\n",
    "        self.conv1 = nn.Conv2d(3, 32, kernel_size=3, padding=1)     # (in_channels (rgb), out_channels, filter_num, stride, padding), default stride = 1\n",
    "        self.conv2 = nn.Conv2d(32, 64, kernel_size=3, padding=1)\n",
    "        self.conv3 = nn.Conv2d(64, 64, kernel_size=3, padding=1)\n",
    "        # Define the fully connected layers\n",
    "        self.fc1 = nn.Linear(64 * 8 * 8, 128)\n",
    "        # self.fc1 = nn.Linear(64 * 4 * 4, 128)\n",
    "        self.fc2 = nn.Linear(128, num_classes)\n",
    "\n",
    "    def forward(self, x):\n",
    "        # Define the forward pass through the network\n",
    "        x = nn.functional.relu(self.conv1(x))\n",
    "        x = nn.functional.max_pool2d(x, 2)\n",
    "        x = nn.functional.relu(self.conv2(x))\n",
    "        x = nn.functional.max_pool2d(x, 2)\n",
    "        x = nn.functional.relu(self.conv3(x))\n",
    "        x = nn.functional.max_pool2d(x, 2)\n",
    "        # x = x.view(-1, 64 * 16 * 16)\n",
    "        x = x.view(x.size(0), -1)\n",
    "        x = nn.functional.relu(self.fc1(x))\n",
    "        x = self.fc2(x)\n",
    "        return x"
   ]
  },
  {
   "cell_type": "markdown",
   "metadata": {},
   "source": [
    "## Step 6: Initialize model. loss function, and optimizer"
   ]
  },
  {
   "cell_type": "code",
   "execution_count": 143,
   "metadata": {},
   "outputs": [],
   "source": [
    "model = CNN(num_classes=len(label_encoder.classes_))\n",
    "criterion = nn.CrossEntropyLoss()\n",
    "optimizer = optim.Adam(model.parameters(), lr=0.001)"
   ]
  },
  {
   "cell_type": "code",
   "execution_count": 144,
   "metadata": {},
   "outputs": [
    {
     "name": "stdout",
     "output_type": "stream",
     "text": [
      "4\n"
     ]
    }
   ],
   "source": [
    "print(len(label_encoder.classes_))"
   ]
  },
  {
   "cell_type": "markdown",
   "metadata": {},
   "source": [
    "## Step 7: Train the model"
   ]
  },
  {
   "cell_type": "code",
   "execution_count": 145,
   "metadata": {},
   "outputs": [],
   "source": [
    "def accuracy(predictions, laels):\n",
    "    pred = torch.max(prediction.data, 1)[1]\n",
    "    rights = pred.eq(labels.data.view_as(pred)).sum()\n",
    "    return rights, len(labels)"
   ]
  },
  {
   "cell_type": "code",
   "execution_count": 146,
   "metadata": {},
   "outputs": [],
   "source": [
    "# num_epochs = 5000\n",
    "# for epoch in range(num_epochs):\n",
    "#     model.train()\n",
    "#     for images, labels in train_loader:\n",
    "#         # print(\"Batch Shape - Images:\", images.shape)\n",
    "#         # print(\"Batch Shape - Labels:\", labels.shape)\n",
    "\n",
    "#         optimizer.zero_grad()   # Zero the gradient\n",
    "#         outputs = model(images) # Forward pass: computer predicted outputs\n",
    "#         # print(outputs.shape)\n",
    "#         loss = criterion(outputs, labels) # Compute the loss\n",
    "#         loss.backward()     # Backward pass: compute gradient of the loss with respect to model parameters\n",
    "#         optimizer.step()    # Update the model parameters based on the gradients\n",
    "\n",
    "#     print(f\"Epoch [{epoch + 1}/{num_epochs}], Loss: {loss.item()}\")"
   ]
  },
  {
   "cell_type": "code",
   "execution_count": 147,
   "metadata": {},
   "outputs": [
    {
     "name": "stdout",
     "output_type": "stream",
     "text": [
      "Epoch [1/60], Loss: 1.1962983012199402, Accuracy: 0.48484848484848486\n",
      "Epoch [2/60], Loss: 1.4741946458816528, Accuracy: 0.48484848484848486\n",
      "Epoch [3/60], Loss: 1.1787973642349243, Accuracy: 0.48484848484848486\n",
      "Epoch [4/60], Loss: 1.1920057932535808, Accuracy: 0.3939393939393939\n",
      "Epoch [5/60], Loss: 1.1888694365819295, Accuracy: 0.19696969696969696\n",
      "Epoch [6/60], Loss: 1.1794519821802776, Accuracy: 0.19696969696969696\n",
      "Epoch [7/60], Loss: 1.2124134302139282, Accuracy: 0.19696969696969696\n",
      "Epoch [8/60], Loss: 1.1179306507110596, Accuracy: 0.36363636363636365\n",
      "Epoch [9/60], Loss: 1.1132258971532185, Accuracy: 0.6666666666666666\n",
      "Epoch [10/60], Loss: 1.0187283754348755, Accuracy: 0.48484848484848486\n",
      "Epoch [11/60], Loss: 1.5213295420010884, Accuracy: 0.48484848484848486\n",
      "Epoch [12/60], Loss: 0.8895341157913208, Accuracy: 0.6666666666666666\n",
      "Epoch [13/60], Loss: 1.0165470441182454, Accuracy: 0.6212121212121212\n",
      "Epoch [14/60], Loss: 0.8422277967135111, Accuracy: 0.6818181818181818\n",
      "Epoch [15/60], Loss: 1.064989964167277, Accuracy: 0.5151515151515151\n",
      "Epoch [16/60], Loss: 0.8386456569035848, Accuracy: 0.6363636363636364\n",
      "Epoch [17/60], Loss: 0.750490148862203, Accuracy: 0.7121212121212122\n",
      "Epoch [18/60], Loss: 0.7113823095957438, Accuracy: 0.7272727272727273\n",
      "Epoch [19/60], Loss: 0.5660208066304525, Accuracy: 0.7424242424242424\n",
      "Epoch [20/60], Loss: 0.5406428277492523, Accuracy: 0.7878787878787878\n",
      "Epoch [21/60], Loss: 0.4871605982383092, Accuracy: 0.7727272727272727\n",
      "Epoch [22/60], Loss: 0.508961871266365, Accuracy: 0.7272727272727273\n",
      "Epoch [23/60], Loss: 0.5143046081066132, Accuracy: 0.8333333333333334\n",
      "Epoch [24/60], Loss: 0.8908088902632395, Accuracy: 0.8484848484848485\n",
      "Epoch [25/60], Loss: 0.4737260341644287, Accuracy: 0.803030303030303\n",
      "Epoch [26/60], Loss: 0.598855455716451, Accuracy: 0.9090909090909091\n",
      "Epoch [27/60], Loss: 0.43046170721451443, Accuracy: 0.7424242424242424\n",
      "Epoch [28/60], Loss: 0.38253705700238544, Accuracy: 0.8181818181818182\n",
      "Epoch [29/60], Loss: 0.2361992783844471, Accuracy: 0.9090909090909091\n",
      "Epoch [30/60], Loss: 0.23484368125597635, Accuracy: 0.8939393939393939\n",
      "Epoch [31/60], Loss: 0.20639818410078684, Accuracy: 0.9090909090909091\n",
      "Epoch [32/60], Loss: 0.14102022970716158, Accuracy: 0.9242424242424242\n",
      "Epoch [33/60], Loss: 0.15138001243273416, Accuracy: 0.9242424242424242\n",
      "Epoch [34/60], Loss: 0.1996177484591802, Accuracy: 0.9696969696969697\n",
      "Epoch [35/60], Loss: 0.15156170818954706, Accuracy: 0.9393939393939394\n",
      "Epoch [36/60], Loss: 0.07046149717643857, Accuracy: 0.9545454545454546\n",
      "Epoch [37/60], Loss: 0.10268512181937695, Accuracy: 0.9393939393939394\n",
      "Epoch [38/60], Loss: 0.035712127961839236, Accuracy: 0.9848484848484849\n",
      "Epoch [39/60], Loss: 0.05331253012021383, Accuracy: 0.9848484848484849\n",
      "Epoch [40/60], Loss: 0.0337068277100722, Accuracy: 1.0\n",
      "Epoch [41/60], Loss: 0.02362094974766175, Accuracy: 1.0\n",
      "Epoch [42/60], Loss: 0.015368355244087676, Accuracy: 1.0\n",
      "Epoch [43/60], Loss: 0.011336333787767217, Accuracy: 1.0\n",
      "Epoch [44/60], Loss: 0.01057105251432707, Accuracy: 1.0\n",
      "Epoch [45/60], Loss: 0.006093518823035993, Accuracy: 1.0\n",
      "Epoch [46/60], Loss: 0.006032999139279127, Accuracy: 1.0\n",
      "Epoch [47/60], Loss: 0.008607041633998355, Accuracy: 1.0\n",
      "Epoch [48/60], Loss: 0.005159237887710333, Accuracy: 1.0\n",
      "Epoch [49/60], Loss: 0.0037981648153314986, Accuracy: 1.0\n",
      "Epoch [50/60], Loss: 0.004104707855731249, Accuracy: 1.0\n",
      "Epoch [51/60], Loss: 0.0030615424814944467, Accuracy: 1.0\n",
      "Epoch [52/60], Loss: 0.0018333832449570764, Accuracy: 1.0\n",
      "Epoch [53/60], Loss: 0.0020588201781113944, Accuracy: 1.0\n",
      "Epoch [54/60], Loss: 0.0015884275004888575, Accuracy: 1.0\n",
      "Epoch [55/60], Loss: 0.002313445322215557, Accuracy: 1.0\n",
      "Epoch [56/60], Loss: 0.0012368966126814485, Accuracy: 1.0\n",
      "Epoch [57/60], Loss: 0.0014640746327737968, Accuracy: 1.0\n",
      "Epoch [58/60], Loss: 0.0024493659924094877, Accuracy: 1.0\n",
      "Epoch [59/60], Loss: 0.0012326679037262995, Accuracy: 1.0\n",
      "Epoch [60/60], Loss: 0.0010622798969658713, Accuracy: 1.0\n"
     ]
    },
    {
     "data": {
      "image/png": "[encoded data removed]",
      "text/plain": [
       "<Figure size 1000x500 with 2 Axes>"
      ]
     },
     "metadata": {},
     "output_type": "display_data"
    }
   ],
   "source": [
    "import matplotlib.pyplot as plt\n",
    "\n",
    "num_epochs = 60\n",
    "train_losses = []\n",
    "train_accuracies = []\n",
    "\n",
    "for epoch in range(num_epochs):\n",
    "    model.train()\n",
    "    correct = 0\n",
    "    total = 0\n",
    "    epoch_loss = 0.0\n",
    "    \n",
    "    for images, labels in train_loader:\n",
    "        optimizer.zero_grad()   # Zero the gradient\n",
    "        outputs = model(images) # Forward pass: compute predicted outputs\n",
    "        loss = criterion(outputs, labels) # Compute the loss\n",
    "        loss.backward()     # Backward pass: compute gradient of the loss with respect to model parameters\n",
    "        optimizer.step()    # Update the model parameters based on the gradients\n",
    "        \n",
    "        _, predicted = torch.max(outputs.data, 1)\n",
    "        total += labels.size(0)\n",
    "        correct += (predicted == labels).sum().item()\n",
    "        epoch_loss += loss.item()\n",
    "\n",
    "    train_accuracy = correct / total\n",
    "    train_loss = epoch_loss / len(train_loader)\n",
    "    train_accuracies.append(train_accuracy)\n",
    "    train_losses.append(train_loss)\n",
    "\n",
    "    print(f\"Epoch [{epoch + 1}/{num_epochs}], Loss: {train_loss}, Accuracy: {train_accuracy}\")\n",
    "\n",
    "# Plotting\n",
    "plt.figure(figsize=(10, 5))\n",
    "plt.subplot(1, 2, 1)\n",
    "plt.plot(range(1, num_epochs + 1), train_losses, label='Training Loss')\n",
    "plt.xlabel('Epoch')\n",
    "plt.ylabel('Loss')\n",
    "plt.title('Training Loss')\n",
    "\n",
    "plt.subplot(1, 2, 2)\n",
    "plt.plot(range(1, num_epochs + 1), train_accuracies, label='Training Accuracy')\n",
    "plt.xlabel('Epoch')\n",
    "plt.ylabel('Accuracy')\n",
    "plt.title('Training Accuracy')\n",
    "\n",
    "plt.tight_layout()\n",
    "plt.show()\n"
   ]
  },
  {
   "cell_type": "markdown",
   "metadata": {},
   "source": [
    "## Step 8: Evaluate the model"
   ]
  },
  {
   "cell_type": "code",
   "execution_count": 148,
   "metadata": {},
   "outputs": [
    {
     "name": "stdout",
     "output_type": "stream",
     "text": [
      "Test Accuracy: 82.35%\n"
     ]
    }
   ],
   "source": [
    "model.eval()\n",
    "correct = 0\n",
    "total = 0\n",
    "with torch.no_grad():\n",
    "    for images, labels in test_loader:\n",
    "        outputs = model(images)\n",
    "        _, predicted = torch.max(outputs.data, 1)\n",
    "        total += labels.size(0)\n",
    "        correct += (predicted == labels).sum().item()\n",
    "\n",
    "accuracy = correct / total\n",
    "print('Test Accuracy: {:.2f}%'.format(100 * accuracy))"
   ]
  }
 ],
 "metadata": {
  "kernelspec": {
   "display_name": "test",
   "language": "python",
   "name": "python3"
  },
  "language_info": {
   "codemirror_mode": {
    "name": "ipython",
    "version": 3
   },
   "file_extension": ".py",
   "mimetype": "text/x-python",
   "name": "python",
   "nbconvert_exporter": "python",
   "pygments_lexer": "ipython3",
   "version": "3.8.18"
  }
 },
 "nbformat": 4,
 "nbformat_minor": 2
}
