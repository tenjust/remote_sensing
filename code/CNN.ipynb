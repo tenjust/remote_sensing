{
 "cells": [
  {
   "cell_type": "code",
   "execution_count": 50,
   "metadata": {},
   "outputs": [],
   "source": [
    "import os\n",
    "import pandas as pd\n",
    "import numpy as np\n",
    "import cv2\n",
    "import torch\n",
    "import torch.nn as nn\n",
    "import torch.optim as optim\n",
    "import torchvision.transforms as transforms\n",
    "from torch.utils.data import Dataset, DataLoader\n",
    "from sklearn.model_selection import train_test_split\n",
    "from sklearn.preprocessing import LabelEncoder\n",
    "\n",
    "# Define a custom dataset class\n",
    "class CustomDataset(Dataset):\n",
    "    def __init__(self, images, labels, transform=None):\n",
    "        self.images = images\n",
    "        self.labels = labels\n",
    "        self.transform = transform\n",
    "\n",
    "    def __len__(self):\n",
    "        return len(self.images)\n",
    "\n",
    "    def __getitem__(self, idx):\n",
    "        image = self.images[idx]\n",
    "        label = self.labels[idx]\n",
    "\n",
    "        if self.transform:\n",
    "            image = self.transform(image)\n",
    "\n",
    "        return image, label"
   ]
  },
  {
   "cell_type": "markdown",
   "metadata": {},
   "source": [
    "## Step 1: Data Preparation"
   ]
  },
  {
   "cell_type": "code",
   "execution_count": 51,
   "metadata": {},
   "outputs": [
    {
     "name": "stdout",
     "output_type": "stream",
     "text": [
      "Folder T2S9 does not have a corresponding species label.\n",
      "Folder T4S1 does not have a corresponding species label.\n",
      "Folder T4S4 does not have a corresponding species label.\n"
     ]
    }
   ],
   "source": [
    "species_mapping = pd.read_csv(\"species_percentage.csv\")\n",
    "species_mapping = species_mapping[species_mapping['Percentage'] >= 80]\n",
    "\n",
    "# data_dir = 'D:/Yehmh/test_py/202301/P00074_transect_1/1m_1m/known'\n",
    "# Folder_names = \"T1S\"\n",
    "# image_size = 34\n",
    "\n",
    "data_dir = 'D:/Yehmh/test_py/202301/P00073_transect_234/5m_5m/known'\n",
    "Folder_names = \"T\"\n",
    "\n",
    "X = []  # Features\n",
    "y = []  # Labels\n",
    "\n",
    "for folder in os.listdir(data_dir):\n",
    "    if folder.startswith(Folder_names):\n",
    "        species_info = species_mapping.loc[species_mapping[\"Plot\"] == folder]\n",
    "        if not species_info.empty and not pd.isna(species_info[\"SpeciesID\"].values[0]):\n",
    "            species = species_info[\"SpeciesID\"].values[0]\n",
    "            for file in os.listdir(os.path.join(data_dir, folder)):\n",
    "                if file.endswith(\".tif\"):\n",
    "                    image_path = os.path.join(data_dir, folder, file)\n",
    "                    image = cv2.imread(image_path)\n",
    "                    if image.shape[0] > 64:\n",
    "                        image = cv2.resize(image, (64, 64))  # Resize image if necessary\n",
    "                    else:\n",
    "                        print(\"image size: \", image.shape)\n",
    "                    \n",
    "                    X.append(image)\n",
    "                    y.append(species)\n",
    "        else:\n",
    "            print(f\"Folder {folder} does not have a corresponding species label.\")"
   ]
  },
  {
   "cell_type": "markdown",
   "metadata": {},
   "source": [
    "## Step 2: Data Preprocessing"
   ]
  },
  {
   "cell_type": "code",
   "execution_count": 52,
   "metadata": {},
   "outputs": [],
   "source": [
    "label_encoder = LabelEncoder()\n",
    "y = label_encoder.fit_transform(y)\n",
    "X_train, X_test, y_train, y_test = train_test_split(X, y, test_size=0.2, random_state=42)"
   ]
  },
  {
   "cell_type": "code",
   "execution_count": 53,
   "metadata": {},
   "outputs": [
    {
     "name": "stdout",
     "output_type": "stream",
     "text": [
      "[2 4 5 6]\n",
      "[3 3 3 3 3 3 3 3 3 3 3 3 3 3 2 2 2 2 2 2 2 2 2 2 2 2 2 3 3 3 3 3 3 3 3 3 3\n",
      " 3 3 3 3 3 3 3 3 3 3 3 3 3 3 3 3 3 3 3 3 3 3 3 3 3 3 3 3 3 3 3 3 3 3 3 3 3\n",
      " 3 3 3 3 3 3 3 3 3 3 3 3 3 3 3 3 3 3 3 3 3 3 3 3 3 3 3 3 3 3 3 3 3 3 3 3 1\n",
      " 1 1 1 1 1 1 1 1 1 1 1 3 3 3 3 3 3 3 3 3 3 3 3 3 1 1 1 1 1 1 1 1 1 1 1 1 1\n",
      " 1 1 1 1 1 1 1 1 1 1 1 1 1 1 1 1 1 1 1 1 1 1 1 1 1 1 1 1 1 1 1 1 1 1 3 3 3\n",
      " 3 3 3 3 3 3 3 3 3 3 3 3 3 3 3 3 3 3 3 3 3 3 3 3 3 3 3 3 3 3 3 3 3 3 3 3 3\n",
      " 3 3 3 3 3 3 3 3 1 1 1 1 1 1 1 1 1 1 1 1 1 1 0 0 0 0 0 0 0 0 0 0 0 0 0 0 0\n",
      " 0 0 0 0 0 0 0 0 0 0 0 0 0 0 0 0 0 0 0 0 0 0 0 0 0 0 0 0 0 0 0 0 0 0 0 0 0\n",
      " 0 0 0 0 0 0 0 0 0 0 0 0 0 0 0 0 0 0 0 0 0 0 0 0 0 0 0 0 0 0 0 0 0 0 0 0]\n",
      "265 67\n"
     ]
    }
   ],
   "source": [
    "print(label_encoder.classes_)\n",
    "print(y)\n",
    "print(len(X_train), len(X_test))"
   ]
  },
  {
   "cell_type": "markdown",
   "metadata": {},
   "source": [
    "## Step 3: Define transformations and create datasets"
   ]
  },
  {
   "cell_type": "code",
   "execution_count": 54,
   "metadata": {},
   "outputs": [],
   "source": [
    "transform = transforms.Compose([\n",
    "    transforms.ToTensor(),  # Convert image to PyTorch tensor\n",
    "    transforms.Normalize((0.5, 0.5, 0.5), (0.5, 0.5, 0.5))  # Normalize image data\n",
    "])\n",
    "\n",
    "train_dataset = CustomDataset(X_train, y_train, transform=transform)\n",
    "test_dataset = CustomDataset(X_test, y_test, transform=transform)"
   ]
  },
  {
   "cell_type": "code",
   "execution_count": 55,
   "metadata": {},
   "outputs": [],
   "source": [
    "# # Data Augmentation ------\n",
    "\n",
    "# from PIL import Image\n",
    "\n",
    "# train_transform = transforms.Compose([\n",
    "#     transforms.Lambda(lambda x: Image.fromarray(x)),  # Convert NumPy array to PIL Image\n",
    "#     transforms.RandomHorizontalFlip(),  # Randomly flip the images horizontally\n",
    "#     transforms.RandomRotation(degrees=15),  # Randomly rotate the images by up to 15 degrees\n",
    "#     transforms.RandomCrop(size=(32, 32), padding=4),  # Randomly crop a 32x32 region of the image with padding\n",
    "#     transforms.ToTensor(),  # Convert image to PyTorch tensor\n",
    "#     transforms.Normalize(mean=[0.5, 0.5, 0.5], std=[0.5, 0.5, 0.5])  # Normalize image data\n",
    "# ])\n",
    "\n",
    "# test_transform = transforms.Compose([\n",
    "#     transforms.ToTensor(),  # Convert image to PyTorch tensor\n",
    "#     transforms.Normalize(mean=[0.5, 0.5, 0.5], std=[0.5, 0.5, 0.5])  # Normalize image data\n",
    "# ])\n",
    "\n",
    "# train_dataset = CustomDataset(X_train, y_train, transform=train_transform)\n",
    "# test_dataset = CustomDataset(X_test, y_test, transform=test_transform)"
   ]
  },
  {
   "cell_type": "markdown",
   "metadata": {},
   "source": [
    "## Step 4: Create data loaders"
   ]
  },
  {
   "cell_type": "code",
   "execution_count": 56,
   "metadata": {},
   "outputs": [],
   "source": [
    "batch_size = 32\n",
    "\n",
    "train_loader = DataLoader(train_dataset, batch_size=batch_size, shuffle=True)\n",
    "test_loader = DataLoader(test_dataset, batch_size=batch_size, shuffle=False)\n",
    "# test_loader is created with shuffle=False. \n",
    "# Ensures that the evaluation process remains consistent across different evaluations \n",
    "# and that the model is tested on the same data distribution every time"
   ]
  },
  {
   "cell_type": "markdown",
   "metadata": {},
   "source": [
    "## Step 5: Define the CNN model"
   ]
  },
  {
   "cell_type": "code",
   "execution_count": 57,
   "metadata": {},
   "outputs": [
    {
     "name": "stdout",
     "output_type": "stream",
     "text": [
      "(64, 64, 3)\n"
     ]
    }
   ],
   "source": [
    "print(image.shape)"
   ]
  },
  {
   "cell_type": "code",
   "execution_count": 58,
   "metadata": {},
   "outputs": [],
   "source": [
    "class CNN(nn.Module):\n",
    "    def __init__(self, num_classes):\n",
    "        super(CNN, self).__init__()\n",
    "        # Define the convolutional layers\n",
    "        self.conv1 = nn.Conv2d(3, 32, kernel_size=3, padding=1)     # (in_channels (rgb), out_channels, filter_num, stride, padding), default stride = 1\n",
    "        self.conv2 = nn.Conv2d(32, 64, kernel_size=3, padding=1)\n",
    "        self.conv3 = nn.Conv2d(64, 64, kernel_size=3, padding=1)\n",
    "        # Define the fully connected layers\n",
    "        self.fc1 = nn.Linear(64 * 8 * 8, 128)\n",
    "        # self.fc1 = nn.Linear(64 * 4 * 4, 128)\n",
    "        self.fc2 = nn.Linear(128, num_classes)\n",
    "\n",
    "    def forward(self, x):\n",
    "        # Define the forward pass through the network\n",
    "        x = nn.functional.relu(self.conv1(x))\n",
    "        x = nn.functional.max_pool2d(x, 2)\n",
    "        x = nn.functional.relu(self.conv2(x))\n",
    "        x = nn.functional.max_pool2d(x, 2)\n",
    "        x = nn.functional.relu(self.conv3(x))\n",
    "        x = nn.functional.max_pool2d(x, 2)\n",
    "        # x = x.view(-1, 64 * 16 * 16)\n",
    "        x = x.view(x.size(0), -1)\n",
    "        x = nn.functional.relu(self.fc1(x))\n",
    "        x = self.fc2(x)\n",
    "        return x\n",
    "        # return nn.functional.softmax(x, dim=1)  # Apply softmax activation for multi-class classification"
   ]
  },
  {
   "cell_type": "markdown",
   "metadata": {},
   "source": [
    "## Step 6: Initialize model. loss function, and optimizer"
   ]
  },
  {
   "cell_type": "code",
   "execution_count": 59,
   "metadata": {},
   "outputs": [],
   "source": [
    "model = CNN(num_classes=len(label_encoder.classes_))\n",
    "criterion = nn.CrossEntropyLoss()\n",
    "optimizer = optim.Adam(model.parameters(), lr=0.001)"
   ]
  },
  {
   "cell_type": "code",
   "execution_count": 60,
   "metadata": {},
   "outputs": [
    {
     "name": "stdout",
     "output_type": "stream",
     "text": [
      "4\n"
     ]
    }
   ],
   "source": [
    "print(len(label_encoder.classes_))"
   ]
  },
  {
   "cell_type": "markdown",
   "metadata": {},
   "source": [
    "## Step 7: Train the model"
   ]
  },
  {
   "cell_type": "code",
   "execution_count": 61,
   "metadata": {},
   "outputs": [],
   "source": [
    "def accuracy(predictions, laels):\n",
    "    pred = torch.max(prediction.data, 1)[1]\n",
    "    rights = pred.eq(labels.data.view_as(pred)).sum()\n",
    "    return rights, len(labels)"
   ]
  },
  {
   "cell_type": "code",
   "execution_count": 62,
   "metadata": {},
   "outputs": [],
   "source": [
    "# num_epochs = 5000\n",
    "# for epoch in range(num_epochs):\n",
    "#     model.train()\n",
    "#     for images, labels in train_loader:\n",
    "#         # print(\"Batch Shape - Images:\", images.shape)\n",
    "#         # print(\"Batch Shape - Labels:\", labels.shape)\n",
    "\n",
    "#         optimizer.zero_grad()   # Zero the gradient\n",
    "#         outputs = model(images) # Forward pass: computer predicted outputs\n",
    "#         # print(outputs.shape)\n",
    "#         loss = criterion(outputs, labels) # Compute the loss\n",
    "#         loss.backward()     # Backward pass: compute gradient of the loss with respect to model parameters\n",
    "#         optimizer.step()    # Update the model parameters based on the gradients\n",
    "\n",
    "#     print(f\"Epoch [{epoch + 1}/{num_epochs}], Loss: {loss.item()}\")"
   ]
  },
  {
   "cell_type": "code",
   "execution_count": 63,
   "metadata": {},
   "outputs": [
    {
     "name": "stdout",
     "output_type": "stream",
     "text": [
      "Epoch [1/100], Loss: 1.271635373433431, Accuracy: 0.36981132075471695\n",
      "Epoch [2/100], Loss: 1.0615625116560194, Accuracy: 0.5735849056603773\n",
      "Epoch [3/100], Loss: 1.066502120759752, Accuracy: 0.5622641509433962\n",
      "Epoch [4/100], Loss: 0.972279237376319, Accuracy: 0.6037735849056604\n",
      "Epoch [5/100], Loss: 1.0367319915029738, Accuracy: 0.6490566037735849\n",
      "Epoch [6/100], Loss: 0.8879634274376763, Accuracy: 0.6490566037735849\n",
      "Epoch [7/100], Loss: 0.8317416111628214, Accuracy: 0.6415094339622641\n",
      "Epoch [8/100], Loss: 0.7492787506845262, Accuracy: 0.6528301886792452\n",
      "Epoch [9/100], Loss: 0.6835910545455085, Accuracy: 0.7169811320754716\n",
      "Epoch [10/100], Loss: 0.632704668574863, Accuracy: 0.7433962264150943\n",
      "Epoch [11/100], Loss: 0.5782165461116366, Accuracy: 0.7735849056603774\n",
      "Epoch [12/100], Loss: 0.5497346023718516, Accuracy: 0.7773584905660378\n",
      "Epoch [13/100], Loss: 0.5296963420179155, Accuracy: 0.7811320754716982\n",
      "Epoch [14/100], Loss: 0.4560655504465103, Accuracy: 0.8113207547169812\n",
      "Epoch [15/100], Loss: 0.3901757241951095, Accuracy: 0.8377358490566038\n",
      "Epoch [16/100], Loss: 0.39670853482352364, Accuracy: 0.8339622641509434\n",
      "Epoch [17/100], Loss: 0.423676523897383, Accuracy: 0.8150943396226416\n",
      "Epoch [18/100], Loss: 0.3814468714925978, Accuracy: 0.8490566037735849\n",
      "Epoch [19/100], Loss: 0.30980126725302803, Accuracy: 0.8603773584905661\n",
      "Epoch [20/100], Loss: 0.2885744588242637, Accuracy: 0.9056603773584906\n",
      "Epoch [21/100], Loss: 0.19913041012154686, Accuracy: 0.939622641509434\n",
      "Epoch [22/100], Loss: 0.18850880530145434, Accuracy: 0.9320754716981132\n",
      "Epoch [23/100], Loss: 0.1503373020225101, Accuracy: 0.969811320754717\n",
      "Epoch [24/100], Loss: 0.10178719440268146, Accuracy: 0.9547169811320755\n",
      "Epoch [25/100], Loss: 0.2941991405354606, Accuracy: 0.9056603773584906\n",
      "Epoch [26/100], Loss: 0.4849175247881148, Accuracy: 0.8301886792452831\n",
      "Epoch [27/100], Loss: 0.4131762931744258, Accuracy: 0.8490566037735849\n",
      "Epoch [28/100], Loss: 0.21335818908280796, Accuracy: 0.9433962264150944\n",
      "Epoch [29/100], Loss: 0.14471501774258083, Accuracy: 0.9547169811320755\n",
      "Epoch [30/100], Loss: 0.09966442692610952, Accuracy: 0.9773584905660377\n",
      "Epoch [31/100], Loss: 0.06925873375601238, Accuracy: 0.9849056603773585\n",
      "Epoch [32/100], Loss: 0.06323809942437543, Accuracy: 0.9773584905660377\n",
      "Epoch [33/100], Loss: 0.038543167834480606, Accuracy: 0.9924528301886792\n",
      "Epoch [34/100], Loss: 0.025068654213100672, Accuracy: 1.0\n",
      "Epoch [35/100], Loss: 0.02679388214730554, Accuracy: 1.0\n",
      "Epoch [36/100], Loss: 0.014350218336201377, Accuracy: 0.9962264150943396\n",
      "Epoch [37/100], Loss: 0.010723621657234617, Accuracy: 1.0\n",
      "Epoch [38/100], Loss: 0.007224397423366706, Accuracy: 1.0\n",
      "Epoch [39/100], Loss: 0.009920850835947527, Accuracy: 0.9962264150943396\n",
      "Epoch [40/100], Loss: 0.02098433409507076, Accuracy: 0.9962264150943396\n",
      "Epoch [41/100], Loss: 0.12855601217597723, Accuracy: 0.9433962264150944\n",
      "Epoch [42/100], Loss: 0.04574680266280969, Accuracy: 0.9849056603773585\n",
      "Epoch [43/100], Loss: 0.03808929993667536, Accuracy: 0.9811320754716981\n",
      "Epoch [44/100], Loss: 0.03948755541609393, Accuracy: 0.9962264150943396\n",
      "Epoch [45/100], Loss: 0.031178377620461915, Accuracy: 0.9924528301886792\n",
      "Epoch [46/100], Loss: 0.053897214070376426, Accuracy: 0.9849056603773585\n",
      "Epoch [47/100], Loss: 0.05394813868527611, Accuracy: 0.9849056603773585\n",
      "Epoch [48/100], Loss: 0.020097509466318622, Accuracy: 1.0\n",
      "Epoch [49/100], Loss: 0.011220166815393087, Accuracy: 1.0\n",
      "Epoch [50/100], Loss: 0.005870959333454569, Accuracy: 1.0\n",
      "Epoch [51/100], Loss: 0.003451945085544139, Accuracy: 1.0\n",
      "Epoch [52/100], Loss: 0.002757411210849467, Accuracy: 1.0\n",
      "Epoch [53/100], Loss: 0.002117354548924292, Accuracy: 1.0\n",
      "Epoch [54/100], Loss: 0.0020754201363565195, Accuracy: 1.0\n",
      "Epoch [55/100], Loss: 0.0016106981072678333, Accuracy: 1.0\n",
      "Epoch [56/100], Loss: 0.0014404591250543792, Accuracy: 1.0\n",
      "Epoch [57/100], Loss: 0.0011922294894854228, Accuracy: 1.0\n",
      "Epoch [58/100], Loss: 0.0010739646709731056, Accuracy: 1.0\n",
      "Epoch [59/100], Loss: 0.001070325563584144, Accuracy: 1.0\n",
      "Epoch [60/100], Loss: 0.0010535272821370098, Accuracy: 1.0\n",
      "Epoch [61/100], Loss: 0.000754938993041934, Accuracy: 1.0\n",
      "Epoch [62/100], Loss: 0.0007641015755426553, Accuracy: 1.0\n",
      "Epoch [63/100], Loss: 0.0006497620714880112, Accuracy: 1.0\n",
      "Epoch [64/100], Loss: 0.0006578604936496251, Accuracy: 1.0\n",
      "Epoch [65/100], Loss: 0.0005994917753721691, Accuracy: 1.0\n",
      "Epoch [66/100], Loss: 0.0005291225097607821, Accuracy: 1.0\n",
      "Epoch [67/100], Loss: 0.00047712131021803036, Accuracy: 1.0\n",
      "Epoch [68/100], Loss: 0.00044452738560115296, Accuracy: 1.0\n",
      "Epoch [69/100], Loss: 0.0003863114009921749, Accuracy: 1.0\n",
      "Epoch [70/100], Loss: 0.0004211636535021373, Accuracy: 1.0\n",
      "Epoch [71/100], Loss: 0.0003679389046737924, Accuracy: 1.0\n",
      "Epoch [72/100], Loss: 0.00030267934198491275, Accuracy: 1.0\n",
      "Epoch [73/100], Loss: 0.0003271898062343502, Accuracy: 1.0\n",
      "Epoch [74/100], Loss: 0.00027247862453805283, Accuracy: 1.0\n",
      "Epoch [75/100], Loss: 0.000251779860668143, Accuracy: 1.0\n",
      "Epoch [76/100], Loss: 0.0002629039340212734, Accuracy: 1.0\n",
      "Epoch [77/100], Loss: 0.00025119542584030167, Accuracy: 1.0\n",
      "Epoch [78/100], Loss: 0.00023858798724379286, Accuracy: 1.0\n",
      "Epoch [79/100], Loss: 0.00020683781298834624, Accuracy: 1.0\n",
      "Epoch [80/100], Loss: 0.00019985481372310055, Accuracy: 1.0\n",
      "Epoch [81/100], Loss: 0.0001858379582699854, Accuracy: 1.0\n",
      "Epoch [82/100], Loss: 0.0001815603498269209, Accuracy: 1.0\n",
      "Epoch [83/100], Loss: 0.00016281141547046395, Accuracy: 1.0\n",
      "Epoch [84/100], Loss: 0.00015041699589346536, Accuracy: 1.0\n",
      "Epoch [85/100], Loss: 0.00015415543708109504, Accuracy: 1.0\n",
      "Epoch [86/100], Loss: 0.000148954520732837, Accuracy: 1.0\n",
      "Epoch [87/100], Loss: 0.00013051998151543862, Accuracy: 1.0\n",
      "Epoch [88/100], Loss: 0.00011988455258283971, Accuracy: 1.0\n",
      "Epoch [89/100], Loss: 0.00011955037835933681, Accuracy: 1.0\n",
      "Epoch [90/100], Loss: 0.00010855077521733215, Accuracy: 1.0\n",
      "Epoch [91/100], Loss: 0.00010131177946782878, Accuracy: 1.0\n",
      "Epoch [92/100], Loss: 0.00011144194811802461, Accuracy: 1.0\n",
      "Epoch [93/100], Loss: 9.66291809163522e-05, Accuracy: 1.0\n",
      "Epoch [94/100], Loss: 7.971039546343188e-05, Accuracy: 1.0\n",
      "Epoch [95/100], Loss: 7.838837255904864e-05, Accuracy: 1.0\n",
      "Epoch [96/100], Loss: 7.002141501288861e-05, Accuracy: 1.0\n",
      "Epoch [97/100], Loss: 6.730617557574685e-05, Accuracy: 1.0\n",
      "Epoch [98/100], Loss: 6.127567859140172e-05, Accuracy: 1.0\n",
      "Epoch [99/100], Loss: 5.9702262256501446e-05, Accuracy: 1.0\n",
      "Epoch [100/100], Loss: 5.741865445290589e-05, Accuracy: 1.0\n"
     ]
    },
    {
     "data": {
      "image/png": "[encoded data removed]",
      "text/plain": [
       "<Figure size 1000x500 with 2 Axes>"
      ]
     },
     "metadata": {},
     "output_type": "display_data"
    }
   ],
   "source": [
    "import matplotlib.pyplot as plt\n",
    "\n",
    "num_epochs = 100\n",
    "train_losses = []\n",
    "train_accuracies = []\n",
    "\n",
    "for epoch in range(num_epochs):\n",
    "    model.train()\n",
    "    correct = 0\n",
    "    total = 0\n",
    "    epoch_loss = 0.0\n",
    "    \n",
    "    for images, labels in train_loader:\n",
    "        optimizer.zero_grad()   # Zero the gradient\n",
    "        outputs = model(images) # Forward pass: compute predicted outputs\n",
    "        loss = criterion(outputs, labels) # Compute the loss\n",
    "        loss.backward()     # Backward pass: compute gradient of the loss with respect to model parameters\n",
    "        optimizer.step()    # Update the model parameters based on the gradients\n",
    "        \n",
    "        _, predicted = torch.max(outputs.data, 1)\n",
    "        total += labels.size(0)\n",
    "        correct += (predicted == labels).sum().item()\n",
    "        epoch_loss += loss.item()\n",
    "\n",
    "    train_accuracy = correct / total\n",
    "    train_loss = epoch_loss / len(train_loader)\n",
    "    train_accuracies.append(train_accuracy)\n",
    "    train_losses.append(train_loss)\n",
    "\n",
    "    print(f\"Epoch [{epoch + 1}/{num_epochs}], Loss: {train_loss}, Accuracy: {train_accuracy}\")\n",
    "\n",
    "# Plotting\n",
    "plt.figure(figsize=(10, 5))\n",
    "plt.subplot(1, 2, 1)\n",
    "plt.plot(range(1, num_epochs + 1), train_losses, label='Training Loss')\n",
    "plt.xlabel('Epoch')\n",
    "plt.ylabel('Loss')\n",
    "plt.title('Training Loss')\n",
    "\n",
    "plt.subplot(1, 2, 2)\n",
    "plt.plot(range(1, num_epochs + 1), train_accuracies, label='Training Accuracy')\n",
    "plt.xlabel('Epoch')\n",
    "plt.ylabel('Accuracy')\n",
    "plt.title('Training Accuracy')\n",
    "\n",
    "plt.tight_layout()\n",
    "plt.show()\n"
   ]
  },
  {
   "cell_type": "markdown",
   "metadata": {},
   "source": [
    "## Step 8: Evaluate the model"
   ]
  },
  {
   "cell_type": "code",
   "execution_count": 64,
   "metadata": {},
   "outputs": [
    {
     "name": "stdout",
     "output_type": "stream",
     "text": [
      "Predicted: 3, Actual: 2\n",
      "Predicted: 0, Actual: 0\n",
      "Predicted: 3, Actual: 3\n",
      "Predicted: 3, Actual: 3\n",
      "Predicted: 3, Actual: 3\n",
      "Predicted: 1, Actual: 1\n",
      "Predicted: 0, Actual: 0\n",
      "Predicted: 1, Actual: 1\n",
      "Predicted: 3, Actual: 3\n",
      "Predicted: 3, Actual: 3\n",
      "Predicted: 3, Actual: 3\n",
      "Predicted: 3, Actual: 3\n",
      "Predicted: 0, Actual: 0\n",
      "Predicted: 3, Actual: 3\n",
      "Predicted: 0, Actual: 0\n",
      "Predicted: 3, Actual: 3\n",
      "Predicted: 1, Actual: 1\n",
      "Predicted: 1, Actual: 1\n",
      "Predicted: 1, Actual: 3\n",
      "Predicted: 3, Actual: 3\n",
      "Predicted: 0, Actual: 3\n",
      "Predicted: 3, Actual: 1\n",
      "Predicted: 0, Actual: 0\n",
      "Predicted: 3, Actual: 3\n",
      "Predicted: 3, Actual: 3\n",
      "Predicted: 1, Actual: 1\n",
      "Predicted: 0, Actual: 0\n",
      "Predicted: 3, Actual: 0\n",
      "Predicted: 1, Actual: 1\n",
      "Predicted: 3, Actual: 0\n",
      "Predicted: 1, Actual: 1\n",
      "Predicted: 0, Actual: 0\n",
      "Predicted: 3, Actual: 3\n",
      "Predicted: 3, Actual: 3\n",
      "Predicted: 3, Actual: 3\n",
      "Predicted: 3, Actual: 3\n",
      "Predicted: 1, Actual: 1\n",
      "Predicted: 0, Actual: 0\n",
      "Predicted: 3, Actual: 3\n",
      "Predicted: 1, Actual: 1\n",
      "Predicted: 3, Actual: 3\n",
      "Predicted: 3, Actual: 3\n",
      "Predicted: 3, Actual: 3\n",
      "Predicted: 1, Actual: 1\n",
      "Predicted: 1, Actual: 1\n",
      "Predicted: 1, Actual: 3\n",
      "Predicted: 1, Actual: 1\n",
      "Predicted: 3, Actual: 3\n",
      "Predicted: 3, Actual: 3\n",
      "Predicted: 0, Actual: 0\n",
      "Predicted: 3, Actual: 3\n",
      "Predicted: 0, Actual: 3\n",
      "Predicted: 3, Actual: 3\n",
      "Predicted: 0, Actual: 2\n",
      "Predicted: 0, Actual: 3\n",
      "Predicted: 0, Actual: 0\n",
      "Predicted: 1, Actual: 3\n",
      "Predicted: 3, Actual: 3\n",
      "Predicted: 1, Actual: 1\n",
      "Predicted: 3, Actual: 3\n",
      "Predicted: 0, Actual: 0\n",
      "Predicted: 0, Actual: 0\n",
      "Predicted: 0, Actual: 0\n",
      "Predicted: 1, Actual: 3\n",
      "Predicted: 1, Actual: 3\n",
      "Predicted: 3, Actual: 1\n",
      "Predicted: 3, Actual: 3\n",
      "Test Accuracy: 79.10%\n"
     ]
    }
   ],
   "source": [
    "model.eval()\n",
    "correct = 0\n",
    "total = 0\n",
    "with torch.no_grad():\n",
    "    for images, labels in test_loader:\n",
    "        outputs = model(images)\n",
    "        _, predicted = torch.max(outputs.data, 1)\n",
    "        total += labels.size(0)\n",
    "        correct += (predicted == labels).sum().item()\n",
    "\n",
    "        # Print the predicted and actual labels\n",
    "        for i in range(len(labels)):\n",
    "            print(\"Predicted: {}, Actual: {}\".format(predicted[i], labels[i]))\n",
    "\n",
    "accuracy = correct / total\n",
    "print('Test Accuracy: {:.2f}%'.format(100 * accuracy))"
   ]
  },
  {
   "cell_type": "markdown",
   "metadata": {},
   "source": [
    "## Classify Whole"
   ]
  },
  {
   "cell_type": "code",
   "execution_count": 65,
   "metadata": {},
   "outputs": [],
   "source": [
    "# import os\n",
    "# import cv2\n",
    "# import torch\n",
    "# import rasterio\n",
    "# import numpy as np\n",
    "# from torch.utils.data import DataLoader\n",
    "# from torchvision import transforms\n",
    "# # from your_model_file import CNN  # Import your CNN model class\n",
    "# import csv\n",
    "\n",
    "# # Function to extract coordinates from TIF files\n",
    "# def extract_coordinates(tif_file):\n",
    "#     with rasterio.open(tif_file) as src:\n",
    "#         crs = src.crs\n",
    "#         bounds = src.bounds\n",
    "#         center_x = (bounds.left + bounds.right) / 2\n",
    "#         center_y = (bounds.top + bounds.bottom) / 2\n",
    "#         return crs, (center_x, center_y)\n",
    "\n",
    "# # Define directory containing unknown TIF files\n",
    "# # unknown_photos_dir = 'D:\\\\Yehmh\\\\test_py\\\\202301\\\\P00073_transect_234\\\\10m_10m\\\\unknown'\n",
    "\n",
    "# def classify_and_write(unknown_photos_dir, output_csv_path):\n",
    "\n",
    "#     # Initialize lists to store unknown photo paths, coordinates, and predictions\n",
    "#     unknown_photos = []\n",
    "#     unknown_coordinates = []\n",
    "\n",
    "#     # Iterate over unknown TIF files\n",
    "#     for filename in os.listdir(unknown_photos_dir):\n",
    "#         if filename.endswith('.tif'):\n",
    "#             tif_file = os.path.join(unknown_photos_dir, filename)\n",
    "            \n",
    "#             # Extract coordinates\n",
    "#             crs, coordinates = extract_coordinates(tif_file)\n",
    "            \n",
    "#             # Append to the list\n",
    "#             unknown_photos.append(tif_file)\n",
    "#             unknown_coordinates.append((filename, crs, coordinates))\n",
    "\n",
    "#     # Now you have a list of unknown photo paths (unknown_photos) and corresponding coordinates (unknown_coordinates)\n",
    "\n",
    "#     # Load the trained model\n",
    "#     # model = CNN(num_classes=len(label_encoder.classes_))\n",
    "#     # model.load_state_dict(torch.load('path/to/your/trained/model.pth'))\n",
    "#     model.eval()  # Set the model to evaluation mode\n",
    "\n",
    "#     # Define transformations for the images\n",
    "#     transform = transforms.Compose([\n",
    "#         transforms.ToTensor(),  \n",
    "#         transforms.Normalize((0.5, 0.5, 0.5), (0.5, 0.5, 0.5))  \n",
    "#     ])\n",
    "\n",
    "#     # Make predictions on the unknown photos\n",
    "#     predictions = []\n",
    "#     for photo_path in unknown_photos:\n",
    "#         # Load and preprocess the image\n",
    "#         image = cv2.imread(photo_path)\n",
    "#         image = cv2.resize(image, (64, 64))  # Resize image if necessary\n",
    "#         image = transform(image)\n",
    "#         image = image.unsqueeze(0)  # Add batch dimension\n",
    "        \n",
    "#         # Perform inference\n",
    "#         with torch.no_grad():\n",
    "#             output = model(image)\n",
    "#             predicted_class = torch.argmax(output).item()\n",
    "#             predicted_label = label_encoder.classes_[predicted_class]\n",
    "#             predictions.append(predicted_label)\n",
    "\n",
    "#     # Now you have the predictions for each unknown photo in the list 'predictions'\n",
    "#     # You can proceed to visualize the results on a map using the coordinates\n",
    "#     with open(output_csv_path, 'w', newline='') as csvfile:\n",
    "#         writer = csv.writer(csvfile)\n",
    "#         writer.writerow(['Filename', 'Latitude', 'Longitude', 'Predicted Species'])  # Write header\n",
    "#         for coord, label in zip(unknown_coordinates, predictions):\n",
    "#             filename, crs, (latitude, longitude) = coord\n",
    "#             writer.writerow([filename, latitude, longitude, label])"
   ]
  },
  {
   "cell_type": "code",
   "execution_count": 66,
   "metadata": {},
   "outputs": [],
   "source": [
    "# import csv\n",
    "\n",
    "# # Define output CSV file path\n",
    "# # output_csv_path = 'D:/Yehmh/test_py/202301/P00073_transect_234/10m_10m/species_distribution.csv'\n",
    "\n",
    "\n",
    "# # Write results to CSV file\n",
    "# with open(output_csv_path, 'w', newline='') as csvfile:\n",
    "#     writer = csv.writer(csvfile)\n",
    "#     writer.writerow(['Filename', 'Latitude', 'Longitude', 'Predicted Species'])  # Write header\n",
    "#     for coord, label in zip(unknown_coordinates, predictions):\n",
    "#         filename, crs, (latitude, longitude) = coord\n",
    "#         writer.writerow([filename, latitude, longitude, label])\n"
   ]
  },
  {
   "cell_type": "code",
   "execution_count": 67,
   "metadata": {},
   "outputs": [],
   "source": [
    "# list = [69, 70, 71, 75, 76, 78, 79, 82]\n",
    "\n",
    "# for i in list:\n",
    "#     unknown_photos_dir = f'D:\\\\Yehmh\\\\test_py\\\\202301\\\\P000{i}\\\\5m_5m'\n",
    "#     output_csv_path = f'D:/Yehmh/test_py/202301/P000{i}_species_distribution.csv'\n",
    "    \n",
    "#     classify_and_write(unknown_photos_dir, output_csv_path)\n",
    "    \n",
    "#     print(i, \" done\")"
   ]
  },
  {
   "cell_type": "markdown",
   "metadata": {},
   "source": [
    "### add probabilities"
   ]
  },
  {
   "cell_type": "code",
   "execution_count": 68,
   "metadata": {},
   "outputs": [],
   "source": [
    "import os\n",
    "import cv2\n",
    "import torch\n",
    "import rasterio\n",
    "import numpy as np\n",
    "from torch.utils.data import DataLoader\n",
    "from torchvision import transforms\n",
    "# from your_model_file import CNN  # Import your CNN model class\n",
    "import csv\n",
    "\n",
    "# Function to extract coordinates from TIF files\n",
    "def extract_coordinates(tif_file):\n",
    "    with rasterio.open(tif_file) as src:\n",
    "        crs = src.crs\n",
    "        bounds = src.bounds\n",
    "        center_x = (bounds.left + bounds.right) / 2\n",
    "        center_y = (bounds.top + bounds.bottom) / 2\n",
    "        return crs, (center_x, center_y)\n",
    "\n",
    "# Define directory containing unknown TIF files\n",
    "# unknown_photos_dir = 'D:\\\\Yehmh\\\\test_py\\\\202301\\\\P00073_transect_234\\\\10m_10m\\\\unknown_cleaned'\n",
    "\n",
    "def classify_and_write(unknown_photos_dir, output_csv_path):\n",
    "\n",
    "    # Initialize lists to store unknown photo paths, coordinates, and predictions\n",
    "    unknown_photos = []\n",
    "    unknown_coordinates = []\n",
    "\n",
    "    # Iterate over unknown TIF files\n",
    "    for filename in os.listdir(unknown_photos_dir):\n",
    "        if filename.endswith('.tif'):\n",
    "            tif_file = os.path.join(unknown_photos_dir, filename)\n",
    "            \n",
    "            # Extract coordinates\n",
    "            crs, coordinates = extract_coordinates(tif_file)\n",
    "            \n",
    "            # Append to the list\n",
    "            unknown_photos.append(tif_file)\n",
    "            unknown_coordinates.append((filename, crs, coordinates))\n",
    "\n",
    "    # Now you have a list of unknown photo paths (unknown_photos) and corresponding coordinates (unknown_coordinates)\n",
    "\n",
    "    # Define a function to classify with threshold\n",
    "    def classify_with_threshold(probabilities, threshold):\n",
    "        max_prob, max_index = torch.max(probabilities, dim=1)\n",
    "        if max_prob.item() < threshold:\n",
    "            return \"unknown\"\n",
    "        else:\n",
    "            predicted_label = label_encoder.classes_[max_index.item()]\n",
    "            return predicted_label  # Return the index of the class with the maximum probability\n",
    "\n",
    "\n",
    "    # Load the trained model\n",
    "    # model = CNN(num_classes=len(label_encoder.classes_))\n",
    "    # model.load_state_dict(torch.load('path/to/your/trained/model.pth'))\n",
    "    model.eval()  # Set the model to evaluation mode\n",
    "\n",
    "    # Define transformations for the images\n",
    "    transform = transforms.Compose([\n",
    "        transforms.ToTensor(),  \n",
    "        transforms.Normalize((0.5, 0.5, 0.5), (0.5, 0.5, 0.5))  \n",
    "    ])\n",
    "\n",
    "    # Make predictions on the unknown photos\n",
    "    predictions = []\n",
    "    for photo_path in unknown_photos:\n",
    "        # Load and preprocess the image\n",
    "        image = cv2.imread(photo_path)\n",
    "        image = cv2.resize(image, (64, 64))  # Resize image if necessary\n",
    "        image = transform(image)\n",
    "        image = image.unsqueeze(0)  # Add batch dimension\n",
    "        \n",
    "        # Perform inference\n",
    "        with torch.no_grad():\n",
    "            output = model(image)\n",
    "            probabilities = nn.functional.softmax(output, dim=1)  # Apply softmax to get probabilities\n",
    "            classification = classify_with_threshold(probabilities, threshold=0.7)  # Adjust threshold as needed\n",
    "            predictions.append(classification)\n",
    "\n",
    "    # Now you have the predictions for each unknown photo in the list 'predictions'\n",
    "    # You can proceed to visualize the results on a map using the coordinates\n",
    "    with open(output_csv_path, 'w', newline='') as csvfile:\n",
    "        writer = csv.writer(csvfile)\n",
    "        writer.writerow(['Filename', 'Latitude', 'Longitude', 'Predicted Species'])  # Write header\n",
    "        for coord, label in zip(unknown_coordinates, predictions):\n",
    "            filename, crs, (latitude, longitude) = coord\n",
    "            writer.writerow([filename, latitude, longitude, label])"
   ]
  },
  {
   "cell_type": "code",
   "execution_count": 69,
   "metadata": {},
   "outputs": [],
   "source": [
    "# import csv\n",
    "\n",
    "# # Define output CSV file path\n",
    "# output_csv_path = 'D:/Yehmh/test_py/202301/P00073_transect_234/10m_10m/species_distribution_unclassified_2.csv'\n",
    "\n",
    "# # Write results to CSV file\n",
    "# with open(output_csv_path, 'w', newline='') as csvfile:\n",
    "#     writer = csv.writer(csvfile)\n",
    "#     writer.writerow(['Filename', 'Latitude', 'Longitude', 'Predicted Species'])  # Write header\n",
    "#     for coord, label in zip(unknown_coordinates, predictions):\n",
    "#         filename, crs, (latitude, longitude) = coord\n",
    "#         writer.writerow([filename, latitude, longitude, label])"
   ]
  },
  {
   "cell_type": "code",
   "execution_count": 70,
   "metadata": {},
   "outputs": [],
   "source": [
    "# list = [69, 70, 71, 75, 76, 78, 79, 82]\n",
    "# list = [76, 78, 79, 82]\n",
    "# list = [78]\n",
    "\n",
    "# for i in list:\n",
    "#     unknown_photos_dir = f'D:\\\\Yehmh\\\\test_py\\\\202301\\\\P000{i}\\\\5m_5m'\n",
    "#     output_csv_path = f'D:/Yehmh/test_py/202301/P000{i}_species_distribution_prob_2.csv'\n",
    "    \n",
    "#     classify_and_write(unknown_photos_dir, output_csv_path)\n",
    "    \n",
    "#     print(i, \" done\")"
   ]
  },
  {
   "cell_type": "code",
   "execution_count": 71,
   "metadata": {},
   "outputs": [
    {
     "name": "stdout",
     "output_type": "stream",
     "text": [
      "done 1\n",
      "done 2\n"
     ]
    }
   ],
   "source": [
    "unknown_photos_dir = f'D:\\\\Yehmh\\\\test_py\\\\202301\\\\P00074_transect_1\\\\5m_5m'\n",
    "output_csv_path = f'D:/Yehmh/test_py/202301/P00074_species_distribution_prob.csv'\n",
    "classify_and_write(unknown_photos_dir, output_csv_path)\n",
    "print(\"done 1\")\n",
    "\n",
    "unknown_photos_dir = f'D:\\\\Yehmh\\\\test_py\\\\202301\\\\P00073_transect_234\\\\5m_5m\\\\unknown'\n",
    "output_csv_path = f'D:/Yehmh/test_py/202301/P00073_species_distribution_prob.csv'\n",
    "classify_and_write(unknown_photos_dir, output_csv_path)\n",
    "print(\"done 2\")"
   ]
  }
 ],
 "metadata": {
  "kernelspec": {
   "display_name": "test",
   "language": "python",
   "name": "python3"
  },
  "language_info": {
   "codemirror_mode": {
    "name": "ipython",
    "version": 3
   },
   "file_extension": ".py",
   "mimetype": "text/x-python",
   "name": "python",
   "nbconvert_exporter": "python",
   "pygments_lexer": "ipython3",
   "version": "3.8.18"
  }
 },
 "nbformat": 4,
 "nbformat_minor": 2
}
