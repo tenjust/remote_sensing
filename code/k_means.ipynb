{
 "cells": [
  {
   "cell_type": "code",
   "execution_count": null,
   "metadata": {},
   "outputs": [
    {
     "ename": "",
     "evalue": "",
     "output_type": "error",
     "traceback": [
      "\u001b[1;31mThe Kernel crashed while executing code in the current cell or a previous cell. \n",
      "\u001b[1;31mPlease review the code in the cell(s) to identify a possible cause of the failure. \n",
      "\u001b[1;31mClick <a href='https://aka.ms/vscodeJupyterKernelCrash'>here</a> for more info. \n",
      "\u001b[1;31mView Jupyter <a href='command:jupyter.viewOutput'>log</a> for further details."
     ]
    }
   ],
   "source": [
    "import os\n",
    "import cv2\n",
    "import numpy as np\n",
    "from sklearn.cluster import KMeans\n",
    "import pandas as pd\n",
    "\n",
    "# Function to load TIFF images from a folder\n",
    "def load_images_from_folder(folder):\n",
    "    images = []\n",
    "    for filename in os.listdir(folder):\n",
    "        if filename.endswith(\".tif\") or filename.endswith(\".tiff\"):\n",
    "            img = cv2.imread(os.path.join(folder, filename), cv2.IMREAD_UNCHANGED)\n",
    "            if img is not None:\n",
    "                images.append(img)\n",
    "    return images\n",
    "\n",
    "# Load images from multiple folders\n",
    "folder_paths = [\n",
    "    \"D:\\\\Yehmh\\\\test_py\\\\202301\\\\P00069\\\\5m_5m\",\n",
    "    \"D:\\\\Yehmh\\\\test_py\\\\202301\\\\P00070\\\\5m_5m\",\n",
    "    \"D:\\\\Yehmh\\\\test_py\\\\202301\\\\P00071\\\\5m_5m\",\n",
    "    # \"D:\\\\Yehmh\\\\test_py\\\\202301\\\\P00075\\\\5m_5m\",\n",
    "    # \"D:\\\\Yehmh\\\\test_py\\\\202301\\\\P00076\\\\5m_5m\",\n",
    "    # \"D:\\\\Yehmh\\\\test_py\\\\202301\\\\P00078\\\\5m_5m\",\n",
    "    # \"D:\\\\Yehmh\\\\test_py\\\\202301\\\\P00079\\\\5m_5m\",\n",
    "    # \"D:\\\\Yehmh\\\\test_py\\\\202301\\\\P00082\\\\5m_5m\"\n",
    "]\n",
    "\n",
    "# Load images from all folders\n",
    "images = []\n",
    "for folder_path in folder_paths:\n",
    "    images.extend(load_images_from_folder(folder_path))\n",
    "\n",
    "# Convert images to feature vectors\n",
    "data = np.array([image.flatten() for image in images])\n",
    "\n",
    "# Define number of clusters (K)\n",
    "num_clusters = 10  # Change this according to your requirement\n",
    "\n",
    "# Apply K-means algorithm\n",
    "kmeans = KMeans(n_clusters=num_clusters)\n",
    "kmeans.fit(data)\n",
    "\n",
    "# Get cluster labels\n",
    "labels = kmeans.labels_\n",
    "\n",
    "# Export coordinates and corresponding clusters to CSV\n",
    "coordinates = np.array([(f\"Image {i}\", j) for i in range(len(images)) for j in range(images[i].shape[0]*images[i].shape[1])])\n",
    "df = pd.DataFrame({\"Image\": coordinates[:, 0], \"Coordinate\": coordinates[:, 1], \"Cluster\": labels})\n",
    "df.to_csv(\"coordinates_clusters.csv\", index=False)\n"
   ]
  }
 ],
 "metadata": {
  "kernelspec": {
   "display_name": "test",
   "language": "python",
   "name": "python3"
  },
  "language_info": {
   "codemirror_mode": {
    "name": "ipython",
    "version": 3
   },
   "file_extension": ".py",
   "mimetype": "text/x-python",
   "name": "python",
   "nbconvert_exporter": "python",
   "pygments_lexer": "ipython3",
   "version": "3.8.18"
  }
 },
 "nbformat": 4,
 "nbformat_minor": 2
}
