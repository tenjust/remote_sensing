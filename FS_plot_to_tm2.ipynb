{
 "cells": [
  {
   "cell_type": "code",
   "execution_count": 2,
   "metadata": {},
   "outputs": [],
   "source": [
    "import pandas as pd\n",
    "\n",
    "tm2_00_x = 307002.7185\n",
    "tm2_00_y = 2738993.585\n",
    "\n",
    "csv_file_path = 'h:\\\\Yehmh\\\\FuShan\\\\FS_flower_trees_within_20m.csv'\n",
    "df = pd.read_csv(csv_file_path)\n",
    "\n",
    "df['tm2_x'] = df['plotx'] + tm2_00_x\n",
    "df['tm2_y'] = df['ploty'] + tm2_00_y\n",
    "\n",
    "df.to_csv(csv_file_path, index=False)"
   ]
  }
 ],
 "metadata": {
  "kernelspec": {
   "display_name": "RS",
   "language": "python",
   "name": "python3"
  },
  "language_info": {
   "codemirror_mode": {
    "name": "ipython",
    "version": 3
   },
   "file_extension": ".py",
   "mimetype": "text/x-python",
   "name": "python",
   "nbconvert_exporter": "python",
   "pygments_lexer": "ipython3",
   "version": "3.8.19"
  }
 },
 "nbformat": 4,
 "nbformat_minor": 2
}
